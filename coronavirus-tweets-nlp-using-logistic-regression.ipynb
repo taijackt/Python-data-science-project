{
 "cells": [
  {
   "cell_type": "markdown",
   "metadata": {
    "papermill": {
     "duration": 0.053554,
     "end_time": "2020-12-14T14:13:36.618187",
     "exception": false,
     "start_time": "2020-12-14T14:13:36.564633",
     "status": "completed"
    },
    "tags": []
   },
   "source": [
    "# Coronavirus tweets NLP - Text Classification\n",
    "\n",
    "- (2020/12) I am a self-taught learner of data science and finished my NLP online course. Try to apply what i have learnt to this project.\n",
    "\n",
    "### Corona Virus Tagged Data\n",
    "\n",
    "Data from:https://www.kaggle.com/datatattle/covid-19-nlp-text-classification\n",
    "\n",
    "\n",
    "Perform Text Classification on the data. The tweets have been pulled from Twitter and manual tagging has been done then.\n",
    "The names and usernames have been given codes to avoid any privacy concerns.\n",
    "\n",
    "\n",
    "Columns in Data:\n",
    "- Location\n",
    "- Tweet At\n",
    "- Original Tweet\n",
    "- Label"
   ]
  },
  {
   "cell_type": "code",
   "execution_count": 1,
   "metadata": {
    "execution": {
     "iopub.execute_input": "2020-12-14T14:13:36.731650Z",
     "iopub.status.busy": "2020-12-14T14:13:36.730888Z",
     "iopub.status.idle": "2020-12-14T14:13:38.639655Z",
     "shell.execute_reply": "2020-12-14T14:13:38.640149Z"
    },
    "papermill": {
     "duration": 1.969289,
     "end_time": "2020-12-14T14:13:38.640350",
     "exception": false,
     "start_time": "2020-12-14T14:13:36.671061",
     "status": "completed"
    },
    "tags": []
   },
   "outputs": [],
   "source": [
    "# import the tools \n",
    "import pandas as pd\n",
    "import numpy as np\n",
    "import nltk\n",
    "from nltk.corpus import stopwords\n",
    "from nltk.stem import PorterStemmer\n",
    "from nltk.stem.wordnet import WordNetLemmatizer\n",
    "import matplotlib.pyplot as plt\n",
    "import seaborn as sns\n",
    "from wordcloud import WordCloud"
   ]
  },
  {
   "cell_type": "code",
   "execution_count": 2,
   "metadata": {
    "execution": {
     "iopub.execute_input": "2020-12-14T14:13:38.724982Z",
     "iopub.status.busy": "2020-12-14T14:13:38.719551Z",
     "iopub.status.idle": "2020-12-14T14:13:39.126190Z",
     "shell.execute_reply": "2020-12-14T14:13:39.125440Z"
    },
    "papermill": {
     "duration": 0.450305,
     "end_time": "2020-12-14T14:13:39.126355",
     "exception": false,
     "start_time": "2020-12-14T14:13:38.676050",
     "status": "completed"
    },
    "scrolled": true,
    "tags": []
   },
   "outputs": [],
   "source": [
    "# Read the train and test file \n",
    "train_df = pd.read_csv('../input/covid-19-nlp-text-classification/Corona_NLP_train.csv', encoding='ISO-8859-1', parse_dates=['TweetAt'])\n",
    "test_df = pd.read_csv('../input/covid-19-nlp-text-classification/Corona_NLP_test.csv', encoding='ISO-8859-1',parse_dates=['TweetAt'])"
   ]
  },
  {
   "cell_type": "code",
   "execution_count": 3,
   "metadata": {
    "execution": {
     "iopub.execute_input": "2020-12-14T14:13:39.238031Z",
     "iopub.status.busy": "2020-12-14T14:13:39.237407Z",
     "iopub.status.idle": "2020-12-14T14:13:39.284159Z",
     "shell.execute_reply": "2020-12-14T14:13:39.283530Z"
    },
    "papermill": {
     "duration": 0.104631,
     "end_time": "2020-12-14T14:13:39.284273",
     "exception": false,
     "start_time": "2020-12-14T14:13:39.179642",
     "status": "completed"
    },
    "tags": []
   },
   "outputs": [
    {
     "data": {
      "text/plain": [
       "(UserName            0\n",
       " ScreenName          0\n",
       " Location         8590\n",
       " TweetAt             0\n",
       " OriginalTweet       0\n",
       " Sentiment           0\n",
       " dtype: int64,\n",
       " UserName            0\n",
       " ScreenName          0\n",
       " Location         8590\n",
       " TweetAt             0\n",
       " OriginalTweet       0\n",
       " Sentiment           0\n",
       " dtype: int64)"
      ]
     },
     "execution_count": 3,
     "metadata": {},
     "output_type": "execute_result"
    }
   ],
   "source": [
    "# Check missing data\n",
    "train_df.isnull().sum(), train_df.isnull().sum()"
   ]
  },
  {
   "cell_type": "code",
   "execution_count": 4,
   "metadata": {
    "execution": {
     "iopub.execute_input": "2020-12-14T14:13:39.370291Z",
     "iopub.status.busy": "2020-12-14T14:13:39.369296Z",
     "iopub.status.idle": "2020-12-14T14:13:39.381398Z",
     "shell.execute_reply": "2020-12-14T14:13:39.382114Z"
    },
    "papermill": {
     "duration": 0.060443,
     "end_time": "2020-12-14T14:13:39.382285",
     "exception": false,
     "start_time": "2020-12-14T14:13:39.321842",
     "status": "completed"
    },
    "tags": []
   },
   "outputs": [
    {
     "data": {
      "text/html": [
       "<div>\n",
       "<style scoped>\n",
       "    .dataframe tbody tr th:only-of-type {\n",
       "        vertical-align: middle;\n",
       "    }\n",
       "\n",
       "    .dataframe tbody tr th {\n",
       "        vertical-align: top;\n",
       "    }\n",
       "\n",
       "    .dataframe thead th {\n",
       "        text-align: right;\n",
       "    }\n",
       "</style>\n",
       "<table border=\"1\" class=\"dataframe\">\n",
       "  <thead>\n",
       "    <tr style=\"text-align: right;\">\n",
       "      <th></th>\n",
       "      <th>UserName</th>\n",
       "      <th>ScreenName</th>\n",
       "      <th>Location</th>\n",
       "      <th>TweetAt</th>\n",
       "      <th>OriginalTweet</th>\n",
       "      <th>Sentiment</th>\n",
       "    </tr>\n",
       "  </thead>\n",
       "  <tbody>\n",
       "    <tr>\n",
       "      <th>0</th>\n",
       "      <td>3799</td>\n",
       "      <td>48751</td>\n",
       "      <td>London</td>\n",
       "      <td>2020-03-16</td>\n",
       "      <td>@MeNyrbie @Phil_Gahan @Chrisitv https://t.co/i...</td>\n",
       "      <td>Neutral</td>\n",
       "    </tr>\n",
       "    <tr>\n",
       "      <th>1</th>\n",
       "      <td>3800</td>\n",
       "      <td>48752</td>\n",
       "      <td>UK</td>\n",
       "      <td>2020-03-16</td>\n",
       "      <td>advice Talk to your neighbours family to excha...</td>\n",
       "      <td>Positive</td>\n",
       "    </tr>\n",
       "    <tr>\n",
       "      <th>2</th>\n",
       "      <td>3801</td>\n",
       "      <td>48753</td>\n",
       "      <td>Vagabonds</td>\n",
       "      <td>2020-03-16</td>\n",
       "      <td>Coronavirus Australia: Woolworths to give elde...</td>\n",
       "      <td>Positive</td>\n",
       "    </tr>\n",
       "    <tr>\n",
       "      <th>3</th>\n",
       "      <td>3802</td>\n",
       "      <td>48754</td>\n",
       "      <td>NaN</td>\n",
       "      <td>2020-03-16</td>\n",
       "      <td>My food stock is not the only one which is emp...</td>\n",
       "      <td>Positive</td>\n",
       "    </tr>\n",
       "    <tr>\n",
       "      <th>4</th>\n",
       "      <td>3803</td>\n",
       "      <td>48755</td>\n",
       "      <td>NaN</td>\n",
       "      <td>2020-03-16</td>\n",
       "      <td>Me, ready to go at supermarket during the #COV...</td>\n",
       "      <td>Extremely Negative</td>\n",
       "    </tr>\n",
       "  </tbody>\n",
       "</table>\n",
       "</div>"
      ],
      "text/plain": [
       "   UserName  ScreenName   Location    TweetAt  \\\n",
       "0      3799       48751     London 2020-03-16   \n",
       "1      3800       48752         UK 2020-03-16   \n",
       "2      3801       48753  Vagabonds 2020-03-16   \n",
       "3      3802       48754        NaN 2020-03-16   \n",
       "4      3803       48755        NaN 2020-03-16   \n",
       "\n",
       "                                       OriginalTweet           Sentiment  \n",
       "0  @MeNyrbie @Phil_Gahan @Chrisitv https://t.co/i...             Neutral  \n",
       "1  advice Talk to your neighbours family to excha...            Positive  \n",
       "2  Coronavirus Australia: Woolworths to give elde...            Positive  \n",
       "3  My food stock is not the only one which is emp...            Positive  \n",
       "4  Me, ready to go at supermarket during the #COV...  Extremely Negative  "
      ]
     },
     "execution_count": 4,
     "metadata": {},
     "output_type": "execute_result"
    }
   ],
   "source": [
    "train_df.head()"
   ]
  },
  {
   "cell_type": "code",
   "execution_count": 5,
   "metadata": {
    "execution": {
     "iopub.execute_input": "2020-12-14T14:13:39.511508Z",
     "iopub.status.busy": "2020-12-14T14:13:39.510458Z",
     "iopub.status.idle": "2020-12-14T14:13:39.516167Z",
     "shell.execute_reply": "2020-12-14T14:13:39.515458Z"
    },
    "papermill": {
     "duration": 0.077295,
     "end_time": "2020-12-14T14:13:39.516292",
     "exception": false,
     "start_time": "2020-12-14T14:13:39.438997",
     "status": "completed"
    },
    "tags": []
   },
   "outputs": [
    {
     "data": {
      "text/html": [
       "<div>\n",
       "<style scoped>\n",
       "    .dataframe tbody tr th:only-of-type {\n",
       "        vertical-align: middle;\n",
       "    }\n",
       "\n",
       "    .dataframe tbody tr th {\n",
       "        vertical-align: top;\n",
       "    }\n",
       "\n",
       "    .dataframe thead th {\n",
       "        text-align: right;\n",
       "    }\n",
       "</style>\n",
       "<table border=\"1\" class=\"dataframe\">\n",
       "  <thead>\n",
       "    <tr style=\"text-align: right;\">\n",
       "      <th></th>\n",
       "      <th>UserName</th>\n",
       "      <th>ScreenName</th>\n",
       "      <th>Location</th>\n",
       "      <th>TweetAt</th>\n",
       "      <th>OriginalTweet</th>\n",
       "      <th>Sentiment</th>\n",
       "    </tr>\n",
       "  </thead>\n",
       "  <tbody>\n",
       "    <tr>\n",
       "      <th>0</th>\n",
       "      <td>1</td>\n",
       "      <td>44953</td>\n",
       "      <td>NYC</td>\n",
       "      <td>2020-02-03</td>\n",
       "      <td>TRENDING: New Yorkers encounter empty supermar...</td>\n",
       "      <td>Extremely Negative</td>\n",
       "    </tr>\n",
       "    <tr>\n",
       "      <th>1</th>\n",
       "      <td>2</td>\n",
       "      <td>44954</td>\n",
       "      <td>Seattle, WA</td>\n",
       "      <td>2020-02-03</td>\n",
       "      <td>When I couldn't find hand sanitizer at Fred Me...</td>\n",
       "      <td>Positive</td>\n",
       "    </tr>\n",
       "    <tr>\n",
       "      <th>2</th>\n",
       "      <td>3</td>\n",
       "      <td>44955</td>\n",
       "      <td>NaN</td>\n",
       "      <td>2020-02-03</td>\n",
       "      <td>Find out how you can protect yourself and love...</td>\n",
       "      <td>Extremely Positive</td>\n",
       "    </tr>\n",
       "    <tr>\n",
       "      <th>3</th>\n",
       "      <td>4</td>\n",
       "      <td>44956</td>\n",
       "      <td>Chicagoland</td>\n",
       "      <td>2020-02-03</td>\n",
       "      <td>#Panic buying hits #NewYork City as anxious sh...</td>\n",
       "      <td>Negative</td>\n",
       "    </tr>\n",
       "    <tr>\n",
       "      <th>4</th>\n",
       "      <td>5</td>\n",
       "      <td>44957</td>\n",
       "      <td>Melbourne, Victoria</td>\n",
       "      <td>2020-03-03</td>\n",
       "      <td>#toiletpaper #dunnypaper #coronavirus #coronav...</td>\n",
       "      <td>Neutral</td>\n",
       "    </tr>\n",
       "  </tbody>\n",
       "</table>\n",
       "</div>"
      ],
      "text/plain": [
       "   UserName  ScreenName             Location    TweetAt  \\\n",
       "0         1       44953                  NYC 2020-02-03   \n",
       "1         2       44954          Seattle, WA 2020-02-03   \n",
       "2         3       44955                  NaN 2020-02-03   \n",
       "3         4       44956          Chicagoland 2020-02-03   \n",
       "4         5       44957  Melbourne, Victoria 2020-03-03   \n",
       "\n",
       "                                       OriginalTweet           Sentiment  \n",
       "0  TRENDING: New Yorkers encounter empty supermar...  Extremely Negative  \n",
       "1  When I couldn't find hand sanitizer at Fred Me...            Positive  \n",
       "2  Find out how you can protect yourself and love...  Extremely Positive  \n",
       "3  #Panic buying hits #NewYork City as anxious sh...            Negative  \n",
       "4  #toiletpaper #dunnypaper #coronavirus #coronav...             Neutral  "
      ]
     },
     "execution_count": 5,
     "metadata": {},
     "output_type": "execute_result"
    }
   ],
   "source": [
    "test_df.head()"
   ]
  },
  {
   "cell_type": "code",
   "execution_count": 6,
   "metadata": {
    "execution": {
     "iopub.execute_input": "2020-12-14T14:13:39.632273Z",
     "iopub.status.busy": "2020-12-14T14:13:39.631491Z",
     "iopub.status.idle": "2020-12-14T14:13:39.637429Z",
     "shell.execute_reply": "2020-12-14T14:13:39.637914Z"
    },
    "papermill": {
     "duration": 0.065032,
     "end_time": "2020-12-14T14:13:39.638058",
     "exception": false,
     "start_time": "2020-12-14T14:13:39.573026",
     "status": "completed"
    },
    "tags": []
   },
   "outputs": [
    {
     "data": {
      "text/plain": [
       "((41157, 6), (3798, 6))"
      ]
     },
     "execution_count": 6,
     "metadata": {},
     "output_type": "execute_result"
    }
   ],
   "source": [
    "train_df.shape, test_df.shape"
   ]
  },
  {
   "cell_type": "code",
   "execution_count": 7,
   "metadata": {
    "execution": {
     "iopub.execute_input": "2020-12-14T14:13:39.716497Z",
     "iopub.status.busy": "2020-12-14T14:13:39.715862Z",
     "iopub.status.idle": "2020-12-14T14:13:39.736677Z",
     "shell.execute_reply": "2020-12-14T14:13:39.736148Z"
    },
    "papermill": {
     "duration": 0.061191,
     "end_time": "2020-12-14T14:13:39.736794",
     "exception": false,
     "start_time": "2020-12-14T14:13:39.675603",
     "status": "completed"
    },
    "tags": []
   },
   "outputs": [],
   "source": [
    "# we combined the train_df and test_df into one dataframe for preprocessing\n",
    "\n",
    "# Create new column to identify the test data\n",
    "train_df['is_test'] = 0\n",
    "test_df['is_test'] = 1\n",
    "\n",
    "# combine \n",
    "comp_df = pd.concat([train_df, test_df])\n",
    "comp_df.reset_index(drop=True, inplace=True)"
   ]
  },
  {
   "cell_type": "markdown",
   "metadata": {
    "papermill": {
     "duration": 0.03783,
     "end_time": "2020-12-14T14:13:39.812065",
     "exception": false,
     "start_time": "2020-12-14T14:13:39.774235",
     "status": "completed"
    },
    "tags": []
   },
   "source": [
    "# Data EDA and formatting"
   ]
  },
  {
   "cell_type": "markdown",
   "metadata": {
    "papermill": {
     "duration": 0.037748,
     "end_time": "2020-12-14T14:13:39.887545",
     "exception": false,
     "start_time": "2020-12-14T14:13:39.849797",
     "status": "completed"
    },
    "tags": []
   },
   "source": [
    "### Grouping the labels to positive(2), negative(0) and neutral (1)"
   ]
  },
  {
   "cell_type": "code",
   "execution_count": 8,
   "metadata": {
    "execution": {
     "iopub.execute_input": "2020-12-14T14:13:39.981264Z",
     "iopub.status.busy": "2020-12-14T14:13:39.980632Z",
     "iopub.status.idle": "2020-12-14T14:13:39.988194Z",
     "shell.execute_reply": "2020-12-14T14:13:39.987589Z"
    },
    "papermill": {
     "duration": 0.062995,
     "end_time": "2020-12-14T14:13:39.988292",
     "exception": false,
     "start_time": "2020-12-14T14:13:39.925297",
     "status": "completed"
    },
    "tags": []
   },
   "outputs": [
    {
     "data": {
      "text/plain": [
       "Positive              12369\n",
       "Negative              10958\n",
       "Neutral                8332\n",
       "Extremely Positive     7223\n",
       "Extremely Negative     6073\n",
       "Name: Sentiment, dtype: int64"
      ]
     },
     "execution_count": 8,
     "metadata": {},
     "output_type": "execute_result"
    }
   ],
   "source": [
    "# Have a look on the target features\n",
    "comp_df.Sentiment.value_counts()"
   ]
  },
  {
   "cell_type": "code",
   "execution_count": 9,
   "metadata": {
    "execution": {
     "iopub.execute_input": "2020-12-14T14:13:40.077881Z",
     "iopub.status.busy": "2020-12-14T14:13:40.076831Z",
     "iopub.status.idle": "2020-12-14T14:13:40.191915Z",
     "shell.execute_reply": "2020-12-14T14:13:40.191193Z"
    },
    "papermill": {
     "duration": 0.165491,
     "end_time": "2020-12-14T14:13:40.192046",
     "exception": false,
     "start_time": "2020-12-14T14:13:40.026555",
     "status": "completed"
    },
    "tags": []
   },
   "outputs": [],
   "source": [
    "comp_df['Sentiment'] = comp_df.Sentiment.str.replace('Extremely Positive', 'Positive')\n",
    "comp_df['Sentiment'] = comp_df.Sentiment.str.replace('Extremely Negative', 'Negative')"
   ]
  },
  {
   "cell_type": "code",
   "execution_count": 10,
   "metadata": {
    "execution": {
     "iopub.execute_input": "2020-12-14T14:13:40.310213Z",
     "iopub.status.busy": "2020-12-14T14:13:40.309440Z",
     "iopub.status.idle": "2020-12-14T14:13:40.551684Z",
     "shell.execute_reply": "2020-12-14T14:13:40.550816Z"
    },
    "papermill": {
     "duration": 0.302299,
     "end_time": "2020-12-14T14:13:40.551811",
     "exception": false,
     "start_time": "2020-12-14T14:13:40.249512",
     "status": "completed"
    },
    "tags": []
   },
   "outputs": [
    {
     "data": {
      "text/plain": [
       "Text(0, 0.5, 'Sentiment')"
      ]
     },
     "execution_count": 10,
     "metadata": {},
     "output_type": "execute_result"
    },
    {
     "data": {
      "image/png": "[encoded data removed]",
      "text/plain": [
       "<Figure size 504x288 with 1 Axes>"
      ]
     },
     "metadata": {
      "needs_background": "light"
     },
     "output_type": "display_data"
    }
   ],
   "source": [
    "comp_df.Sentiment.value_counts().plot.bar(figsize=(7,4))\n",
    "plt.xticks(rotation=None)\n",
    "plt.title('Number of tweets in different sentiments',fontsize=12)\n",
    "plt.xlabel('Number of tweets', fontsize=12)\n",
    "plt.ylabel('Sentiment')"
   ]
  },
  {
   "cell_type": "code",
   "execution_count": 11,
   "metadata": {
    "execution": {
     "iopub.execute_input": "2020-12-14T14:13:40.700684Z",
     "iopub.status.busy": "2020-12-14T14:13:40.699766Z",
     "iopub.status.idle": "2020-12-14T14:13:40.718120Z",
     "shell.execute_reply": "2020-12-14T14:13:40.719135Z"
    },
    "papermill": {
     "duration": 0.096033,
     "end_time": "2020-12-14T14:13:40.719313",
     "exception": false,
     "start_time": "2020-12-14T14:13:40.623280",
     "status": "completed"
    },
    "tags": []
   },
   "outputs": [],
   "source": [
    "# Map the sentiment into 0 , 1, 2\n",
    "comp_df['Sentiment'] = comp_df['Sentiment'].map({'Positive':2, 'Negative':0, 'Neutral':1})"
   ]
  },
  {
   "cell_type": "markdown",
   "metadata": {
    "papermill": {
     "duration": 0.06467,
     "end_time": "2020-12-14T14:13:40.844541",
     "exception": false,
     "start_time": "2020-12-14T14:13:40.779871",
     "status": "completed"
    },
    "tags": []
   },
   "source": [
    "### Get the month of the tweets"
   ]
  },
  {
   "cell_type": "code",
   "execution_count": 12,
   "metadata": {
    "execution": {
     "iopub.execute_input": "2020-12-14T14:13:40.971061Z",
     "iopub.status.busy": "2020-12-14T14:13:40.970165Z",
     "iopub.status.idle": "2020-12-14T14:13:40.977493Z",
     "shell.execute_reply": "2020-12-14T14:13:40.976734Z"
    },
    "papermill": {
     "duration": 0.072,
     "end_time": "2020-12-14T14:13:40.977619",
     "exception": false,
     "start_time": "2020-12-14T14:13:40.905619",
     "status": "completed"
    },
    "tags": []
   },
   "outputs": [],
   "source": [
    "comp_df['month'] = comp_df['TweetAt'].dt.month"
   ]
  },
  {
   "cell_type": "code",
   "execution_count": 13,
   "metadata": {
    "execution": {
     "iopub.execute_input": "2020-12-14T14:13:41.105032Z",
     "iopub.status.busy": "2020-12-14T14:13:41.104144Z",
     "iopub.status.idle": "2020-12-14T14:13:41.452681Z",
     "shell.execute_reply": "2020-12-14T14:13:41.453429Z"
    },
    "papermill": {
     "duration": 0.415171,
     "end_time": "2020-12-14T14:13:41.453584",
     "exception": false,
     "start_time": "2020-12-14T14:13:41.038413",
     "status": "completed"
    },
    "tags": []
   },
   "outputs": [
    {
     "data": {
      "image/png": "[encoded data removed]",
      "text/plain": [
       "<Figure size 432x288 with 1 Axes>"
      ]
     },
     "metadata": {
      "needs_background": "light"
     },
     "output_type": "display_data"
    }
   ],
   "source": [
    "# Visual the date with the labels\n",
    "pd.crosstab(comp_df.month, comp_df.Sentiment).plot.bar()\n",
    "plt.ylabel('Number of tweets')\n",
    "plt.xticks(rotation=None)\n",
    "plt.show()"
   ]
  },
  {
   "cell_type": "markdown",
   "metadata": {
    "papermill": {
     "duration": 0.060519,
     "end_time": "2020-12-14T14:13:41.575372",
     "exception": false,
     "start_time": "2020-12-14T14:13:41.514853",
     "status": "completed"
    },
    "tags": []
   },
   "source": [
    "### Drop the other columns"
   ]
  },
  {
   "cell_type": "code",
   "execution_count": 14,
   "metadata": {
    "execution": {
     "iopub.execute_input": "2020-12-14T14:13:41.685233Z",
     "iopub.status.busy": "2020-12-14T14:13:41.684427Z",
     "iopub.status.idle": "2020-12-14T14:13:41.693098Z",
     "shell.execute_reply": "2020-12-14T14:13:41.692448Z"
    },
    "papermill": {
     "duration": 0.055685,
     "end_time": "2020-12-14T14:13:41.693246",
     "exception": false,
     "start_time": "2020-12-14T14:13:41.637561",
     "status": "completed"
    },
    "tags": []
   },
   "outputs": [],
   "source": [
    "# In this task we will focus on the text data only, so we drop the other columns\n",
    "comp_df = comp_df[['OriginalTweet','Sentiment','is_test']]"
   ]
  },
  {
   "cell_type": "markdown",
   "metadata": {
    "papermill": {
     "duration": 0.060993,
     "end_time": "2020-12-14T14:13:41.815955",
     "exception": false,
     "start_time": "2020-12-14T14:13:41.754962",
     "status": "completed"
    },
    "tags": []
   },
   "source": [
    "### Modify the tweet contents"
   ]
  },
  {
   "cell_type": "markdown",
   "metadata": {
    "papermill": {
     "duration": 0.060979,
     "end_time": "2020-12-14T14:13:41.940918",
     "exception": false,
     "start_time": "2020-12-14T14:13:41.879939",
     "status": "completed"
    },
    "tags": []
   },
   "source": [
    "#### Have a look on the  tweets's content"
   ]
  },
  {
   "cell_type": "code",
   "execution_count": 15,
   "metadata": {
    "execution": {
     "iopub.execute_input": "2020-12-14T14:13:42.070350Z",
     "iopub.status.busy": "2020-12-14T14:13:42.069160Z",
     "iopub.status.idle": "2020-12-14T14:13:42.074908Z",
     "shell.execute_reply": "2020-12-14T14:13:42.074158Z"
    },
    "papermill": {
     "duration": 0.07264,
     "end_time": "2020-12-14T14:13:42.075042",
     "exception": false,
     "start_time": "2020-12-14T14:13:42.002402",
     "status": "completed"
    },
    "tags": []
   },
   "outputs": [
    {
     "data": {
      "text/plain": [
       "'@MeNyrbie @Phil_Gahan @Chrisitv https://t.co/iFz9FAn2Pa and https://t.co/xX6ghGFzCC and https://t.co/I2NlzdxNo8'"
      ]
     },
     "execution_count": 15,
     "metadata": {},
     "output_type": "execute_result"
    }
   ],
   "source": [
    "comp_df['OriginalTweet'][0]"
   ]
  },
  {
   "cell_type": "markdown",
   "metadata": {
    "papermill": {
     "duration": 0.061312,
     "end_time": "2020-12-14T14:13:42.199982",
     "exception": false,
     "start_time": "2020-12-14T14:13:42.138670",
     "status": "completed"
    },
    "tags": []
   },
   "source": [
    "### The elements we would like to remove from the tweet's content\n",
    "\n",
    "- URL\n",
    "- punctuations\n",
    "- \\# tags\n",
    "- @ tags\n",
    "- extra space"
   ]
  },
  {
   "cell_type": "code",
   "execution_count": 16,
   "metadata": {
    "execution": {
     "iopub.execute_input": "2020-12-14T14:13:42.329090Z",
     "iopub.status.busy": "2020-12-14T14:13:42.328243Z",
     "iopub.status.idle": "2020-12-14T14:13:42.332515Z",
     "shell.execute_reply": "2020-12-14T14:13:42.331800Z"
    },
    "papermill": {
     "duration": 0.071373,
     "end_time": "2020-12-14T14:13:42.332629",
     "exception": false,
     "start_time": "2020-12-14T14:13:42.261256",
     "status": "completed"
    },
    "tags": []
   },
   "outputs": [],
   "source": [
    "# Change columns name for easy access\n",
    "comp_df.columns =['tweet','label','is_test']"
   ]
  },
  {
   "cell_type": "code",
   "execution_count": 17,
   "metadata": {
    "execution": {
     "iopub.execute_input": "2020-12-14T14:13:42.469300Z",
     "iopub.status.busy": "2020-12-14T14:13:42.468503Z",
     "iopub.status.idle": "2020-12-14T14:13:43.418084Z",
     "shell.execute_reply": "2020-12-14T14:13:43.418750Z"
    },
    "papermill": {
     "duration": 1.024161,
     "end_time": "2020-12-14T14:13:43.418911",
     "exception": false,
     "start_time": "2020-12-14T14:13:42.394750",
     "status": "completed"
    },
    "tags": []
   },
   "outputs": [],
   "source": [
    "#Remove @ tags\n",
    "comp_df.tweet = comp_df.tweet.str.replace(r'(@\\w*)','')\n",
    "\n",
    "#Remove URL\n",
    "comp_df.tweet = comp_df.tweet.str.replace(r\"http\\S+\", \"\")\n",
    "\n",
    "#Remove # tag\n",
    "comp_df.tweet = comp_df.tweet.str.replace(r'#\\w+',\"\")\n",
    "\n",
    "#Remove all non-character\n",
    "comp_df.tweet = comp_df.tweet.str.replace(r\"[^a-zA-Z ]\",\"\")\n",
    "\n",
    "# Remove extra space\n",
    "comp_df.tweet = comp_df.tweet.str.replace(r'( +)',\" \")\n",
    "comp_df.tweet = comp_df.tweet.str.strip()\n",
    "\n",
    "# Change to lowercase\n",
    "comp_df.tweet = comp_df.tweet.str.lower()"
   ]
  },
  {
   "cell_type": "code",
   "execution_count": 18,
   "metadata": {
    "execution": {
     "iopub.execute_input": "2020-12-14T14:13:43.546802Z",
     "iopub.status.busy": "2020-12-14T14:13:43.546003Z",
     "iopub.status.idle": "2020-12-14T14:13:43.552483Z",
     "shell.execute_reply": "2020-12-14T14:13:43.551654Z"
    },
    "papermill": {
     "duration": 0.071317,
     "end_time": "2020-12-14T14:13:43.552621",
     "exception": false,
     "start_time": "2020-12-14T14:13:43.481304",
     "status": "completed"
    },
    "tags": []
   },
   "outputs": [
    {
     "data": {
      "text/plain": [
       "'consumer corner taking advantage of fears'"
      ]
     },
     "execution_count": 18,
     "metadata": {},
     "output_type": "execute_result"
    }
   ],
   "source": [
    "comp_df.tweet[60]"
   ]
  },
  {
   "cell_type": "markdown",
   "metadata": {
    "papermill": {
     "duration": 0.062675,
     "end_time": "2020-12-14T14:13:43.679302",
     "exception": false,
     "start_time": "2020-12-14T14:13:43.616627",
     "status": "completed"
    },
    "tags": []
   },
   "source": [
    "### Tokenize and Lemmatize the word in data"
   ]
  },
  {
   "cell_type": "code",
   "execution_count": 19,
   "metadata": {
    "execution": {
     "iopub.execute_input": "2020-12-14T14:13:43.813656Z",
     "iopub.status.busy": "2020-12-14T14:13:43.809735Z",
     "iopub.status.idle": "2020-12-14T14:14:21.037631Z",
     "shell.execute_reply": "2020-12-14T14:14:21.036571Z"
    },
    "papermill": {
     "duration": 37.294279,
     "end_time": "2020-12-14T14:14:21.037764",
     "exception": false,
     "start_time": "2020-12-14T14:13:43.743485",
     "status": "completed"
    },
    "tags": []
   },
   "outputs": [],
   "source": [
    "# Create new columns for storing\n",
    "comp_df['corpus'] = [nltk.word_tokenize(text) for text in comp_df.tweet]\n",
    "lemma = nltk.WordNetLemmatizer()\n",
    "comp_df.corpus = comp_df.apply(lambda x: [lemma.lemmatize(word) for word in x.corpus], axis=1)\n",
    "comp_df.corpus = comp_df.apply(lambda x: \" \".join(x.corpus),axis=1)"
   ]
  },
  {
   "cell_type": "markdown",
   "metadata": {
    "papermill": {
     "duration": 0.062706,
     "end_time": "2020-12-14T14:14:21.163651",
     "exception": false,
     "start_time": "2020-12-14T14:14:21.100945",
     "status": "completed"
    },
    "tags": []
   },
   "source": [
    "### Visualize the text data using wordcloud"
   ]
  },
  {
   "cell_type": "code",
   "execution_count": 20,
   "metadata": {
    "execution": {
     "iopub.execute_input": "2020-12-14T14:14:21.296689Z",
     "iopub.status.busy": "2020-12-14T14:14:21.295870Z",
     "iopub.status.idle": "2020-12-14T14:14:21.306737Z",
     "shell.execute_reply": "2020-12-14T14:14:21.305964Z"
    },
    "papermill": {
     "duration": 0.080249,
     "end_time": "2020-12-14T14:14:21.306866",
     "exception": false,
     "start_time": "2020-12-14T14:14:21.226617",
     "status": "completed"
    },
    "tags": []
   },
   "outputs": [],
   "source": [
    "stop_words = stopwords.words('english')"
   ]
  },
  {
   "cell_type": "code",
   "execution_count": 21,
   "metadata": {
    "execution": {
     "iopub.execute_input": "2020-12-14T14:14:21.440865Z",
     "iopub.status.busy": "2020-12-14T14:14:21.439803Z",
     "iopub.status.idle": "2020-12-14T14:14:21.737842Z",
     "shell.execute_reply": "2020-12-14T14:14:21.737161Z"
    },
    "papermill": {
     "duration": 0.365471,
     "end_time": "2020-12-14T14:14:21.737953",
     "exception": false,
     "start_time": "2020-12-14T14:14:21.372482",
     "status": "completed"
    },
    "tags": []
   },
   "outputs": [
    {
     "data": {
      "text/plain": [
       "<wordcloud.wordcloud.WordCloud at 0x7f3b1cf8c410>"
      ]
     },
     "execution_count": 21,
     "metadata": {},
     "output_type": "execute_result"
    }
   ],
   "source": [
    "text = comp_df.corpus.values\n",
    "wordcloud = WordCloud(max_words=500,background_color='white', stopwords=stop_words, colormap='rainbow',height=300)\n",
    "wordcloud.generate(str(text))"
   ]
  },
  {
   "cell_type": "code",
   "execution_count": 22,
   "metadata": {
    "execution": {
     "iopub.execute_input": "2020-12-14T14:14:21.833817Z",
     "iopub.status.busy": "2020-12-14T14:14:21.832903Z",
     "iopub.status.idle": "2020-12-14T14:14:22.046453Z",
     "shell.execute_reply": "2020-12-14T14:14:22.045881Z"
    },
    "papermill": {
     "duration": 0.26476,
     "end_time": "2020-12-14T14:14:22.046559",
     "exception": false,
     "start_time": "2020-12-14T14:14:21.781799",
     "status": "completed"
    },
    "tags": []
   },
   "outputs": [
    {
     "data": {
      "image/png": "[encoded data removed]",
      "text/plain": [
       "<Figure size 720x432 with 1 Axes>"
      ]
     },
     "metadata": {
      "needs_background": "light"
     },
     "output_type": "display_data"
    }
   ],
   "source": [
    "fig = plt.figure()\n",
    "fig.set_figheight(6)\n",
    "fig.set_figwidth(10)\n",
    "plt.imshow(wordcloud)\n",
    "plt.axis('off')\n",
    "plt.show()"
   ]
  },
  {
   "cell_type": "markdown",
   "metadata": {
    "papermill": {
     "duration": 0.046693,
     "end_time": "2020-12-14T14:14:22.139881",
     "exception": false,
     "start_time": "2020-12-14T14:14:22.093188",
     "status": "completed"
    },
    "tags": []
   },
   "source": [
    "# Start modeling"
   ]
  },
  {
   "cell_type": "code",
   "execution_count": 23,
   "metadata": {
    "execution": {
     "iopub.execute_input": "2020-12-14T14:14:22.240275Z",
     "iopub.status.busy": "2020-12-14T14:14:22.239657Z",
     "iopub.status.idle": "2020-12-14T14:14:22.246535Z",
     "shell.execute_reply": "2020-12-14T14:14:22.246017Z"
    },
    "papermill": {
     "duration": 0.060195,
     "end_time": "2020-12-14T14:14:22.246638",
     "exception": false,
     "start_time": "2020-12-14T14:14:22.186443",
     "status": "completed"
    },
    "tags": []
   },
   "outputs": [],
   "source": [
    "# Import the tools we need\n",
    "from sklearn.feature_extraction.text import CountVectorizer, TfidfVectorizer\n",
    "from sklearn.model_selection import train_test_split, cross_val_score\n",
    "from sklearn.model_selection import GridSearchCV\n",
    "\n",
    "from sklearn.naive_bayes import MultinomialNB\n",
    "from sklearn.linear_model import LogisticRegression\n",
    "\n",
    "from sklearn.metrics import classification_report"
   ]
  },
  {
   "cell_type": "code",
   "execution_count": 24,
   "metadata": {
    "execution": {
     "iopub.execute_input": "2020-12-14T14:14:22.349584Z",
     "iopub.status.busy": "2020-12-14T14:14:22.348702Z",
     "iopub.status.idle": "2020-12-14T14:14:22.371892Z",
     "shell.execute_reply": "2020-12-14T14:14:22.370843Z"
    },
    "papermill": {
     "duration": 0.078915,
     "end_time": "2020-12-14T14:14:22.372047",
     "exception": false,
     "start_time": "2020-12-14T14:14:22.293132",
     "status": "completed"
    },
    "tags": []
   },
   "outputs": [
    {
     "name": "stderr",
     "output_type": "stream",
     "text": [
      "/opt/conda/lib/python3.7/site-packages/pandas/core/frame.py:4174: SettingWithCopyWarning: \n",
      "A value is trying to be set on a copy of a slice from a DataFrame\n",
      "\n",
      "See the caveats in the documentation: https://pandas.pydata.org/pandas-docs/stable/user_guide/indexing.html#returning-a-view-versus-a-copy\n",
      "  errors=errors,\n"
     ]
    }
   ],
   "source": [
    "# Split the data back to train and test set\n",
    "train_df = comp_df[comp_df.is_test==0]\n",
    "test_df = comp_df[comp_df.is_test==1]\n",
    "train_df.drop('is_test',axis=1, inplace=True)\n",
    "test_df.drop('is_test',axis=1, inplace=True)\n",
    "test_df.reset_index(drop=True,inplace=True)"
   ]
  },
  {
   "cell_type": "code",
   "execution_count": 25,
   "metadata": {
    "execution": {
     "iopub.execute_input": "2020-12-14T14:14:22.524612Z",
     "iopub.status.busy": "2020-12-14T14:14:22.518068Z",
     "iopub.status.idle": "2020-12-14T14:14:22.528262Z",
     "shell.execute_reply": "2020-12-14T14:14:22.527542Z"
    },
    "papermill": {
     "duration": 0.084958,
     "end_time": "2020-12-14T14:14:22.528411",
     "exception": false,
     "start_time": "2020-12-14T14:14:22.443453",
     "status": "completed"
    },
    "tags": []
   },
   "outputs": [],
   "source": [
    "#Split the data in X and y dataset\n",
    "\n",
    "x_df = train_df.corpus\n",
    "y_df = train_df['label']\n",
    "\n",
    "x_test = test_df.corpus\n",
    "y_test =test_df['label']\n",
    "\n",
    "# Split to train and validation\n",
    "x_train, x_val, y_train, y_val = train_test_split(x_df,y_df, test_size=0.2,random_state=42)"
   ]
  },
  {
   "cell_type": "code",
   "execution_count": 26,
   "metadata": {
    "execution": {
     "iopub.execute_input": "2020-12-14T14:14:22.674493Z",
     "iopub.status.busy": "2020-12-14T14:14:22.673666Z",
     "iopub.status.idle": "2020-12-14T14:14:22.679208Z",
     "shell.execute_reply": "2020-12-14T14:14:22.678566Z"
    },
    "papermill": {
     "duration": 0.080808,
     "end_time": "2020-12-14T14:14:22.679312",
     "exception": false,
     "start_time": "2020-12-14T14:14:22.598504",
     "status": "completed"
    },
    "tags": []
   },
   "outputs": [
    {
     "data": {
      "text/plain": [
       "((32925,), (8232,), (32925,), (8232,))"
      ]
     },
     "execution_count": 26,
     "metadata": {},
     "output_type": "execute_result"
    }
   ],
   "source": [
    "# Check the shape\n",
    "x_train.shape, x_val.shape, y_train.shape, y_val.shape"
   ]
  },
  {
   "cell_type": "markdown",
   "metadata": {
    "papermill": {
     "duration": 0.04867,
     "end_time": "2020-12-14T14:14:22.776457",
     "exception": false,
     "start_time": "2020-12-14T14:14:22.727787",
     "status": "completed"
    },
    "tags": []
   },
   "source": [
    "# Using CountVectorizer"
   ]
  },
  {
   "cell_type": "code",
   "execution_count": 27,
   "metadata": {
    "execution": {
     "iopub.execute_input": "2020-12-14T14:14:22.886452Z",
     "iopub.status.busy": "2020-12-14T14:14:22.885803Z",
     "iopub.status.idle": "2020-12-14T14:14:30.534829Z",
     "shell.execute_reply": "2020-12-14T14:14:30.534122Z"
    },
    "papermill": {
     "duration": 7.709445,
     "end_time": "2020-12-14T14:14:30.534941",
     "exception": false,
     "start_time": "2020-12-14T14:14:22.825496",
     "status": "completed"
    },
    "tags": []
   },
   "outputs": [],
   "source": [
    "# Create the vectorizer\n",
    "vectorizer = CountVectorizer(stop_words='english',ngram_range=(1,2),min_df=5).fit(comp_df.corpus)\n",
    "\n",
    "# transform both train and valid data\n",
    "x_train_vector = vectorizer.transform(x_train)\n",
    "x_val_vector = vectorizer.transform(x_val)"
   ]
  },
  {
   "cell_type": "markdown",
   "metadata": {
    "papermill": {
     "duration": 0.047889,
     "end_time": "2020-12-14T14:14:30.630811",
     "exception": false,
     "start_time": "2020-12-14T14:14:30.582922",
     "status": "completed"
    },
    "tags": []
   },
   "source": [
    "### Start training models\n",
    "- Logistric Regression\n",
    "- Naive Bayes"
   ]
  },
  {
   "cell_type": "code",
   "execution_count": 28,
   "metadata": {
    "execution": {
     "iopub.execute_input": "2020-12-14T14:14:30.736606Z",
     "iopub.status.busy": "2020-12-14T14:14:30.735974Z",
     "iopub.status.idle": "2020-12-14T14:14:44.776170Z",
     "shell.execute_reply": "2020-12-14T14:14:44.775526Z"
    },
    "papermill": {
     "duration": 14.09462,
     "end_time": "2020-12-14T14:14:44.776289",
     "exception": false,
     "start_time": "2020-12-14T14:14:30.681669",
     "status": "completed"
    },
    "tags": []
   },
   "outputs": [
    {
     "name": "stderr",
     "output_type": "stream",
     "text": [
      "[Parallel(n_jobs=-1)]: Using backend LokyBackend with 4 concurrent workers.\n",
      "[Parallel(n_jobs=-1)]: Done  10 out of  10 | elapsed:   14.0s finished\n"
     ]
    },
    {
     "data": {
      "text/plain": [
       "0.7938954514879126"
      ]
     },
     "execution_count": 28,
     "metadata": {},
     "output_type": "execute_result"
    }
   ],
   "source": [
    "cross_val_score(LogisticRegression(random_state=42), x_train_vector, y_train, cv=10, verbose=1, n_jobs=-1).mean()"
   ]
  },
  {
   "cell_type": "code",
   "execution_count": 29,
   "metadata": {
    "execution": {
     "iopub.execute_input": "2020-12-14T14:14:44.882117Z",
     "iopub.status.busy": "2020-12-14T14:14:44.881237Z",
     "iopub.status.idle": "2020-12-14T14:14:45.005925Z",
     "shell.execute_reply": "2020-12-14T14:14:45.005054Z"
    },
    "papermill": {
     "duration": 0.180235,
     "end_time": "2020-12-14T14:14:45.006056",
     "exception": false,
     "start_time": "2020-12-14T14:14:44.825821",
     "status": "completed"
    },
    "tags": []
   },
   "outputs": [
    {
     "name": "stderr",
     "output_type": "stream",
     "text": [
      "[Parallel(n_jobs=-1)]: Using backend LokyBackend with 4 concurrent workers.\n",
      "[Parallel(n_jobs=-1)]: Done  10 out of  10 | elapsed:    0.1s finished\n"
     ]
    },
    {
     "data": {
      "text/plain": [
       "0.6661198281711749"
      ]
     },
     "execution_count": 29,
     "metadata": {},
     "output_type": "execute_result"
    }
   ],
   "source": [
    "cross_val_score(MultinomialNB(alpha=0.01), x_train_vector, y_train, cv=10, verbose=1, n_jobs=-1).mean()"
   ]
  },
  {
   "cell_type": "code",
   "execution_count": 30,
   "metadata": {
    "execution": {
     "iopub.execute_input": "2020-12-14T14:14:45.112376Z",
     "iopub.status.busy": "2020-12-14T14:14:45.111735Z",
     "iopub.status.idle": "2020-12-14T14:14:49.541473Z",
     "shell.execute_reply": "2020-12-14T14:14:49.540221Z"
    },
    "papermill": {
     "duration": 4.483737,
     "end_time": "2020-12-14T14:14:49.541756",
     "exception": false,
     "start_time": "2020-12-14T14:14:45.058019",
     "status": "completed"
    },
    "tags": []
   },
   "outputs": [
    {
     "name": "stdout",
     "output_type": "stream",
     "text": [
      "              precision    recall  f1-score   support\n",
      "\n",
      "           0       0.81      0.79      0.80      3062\n",
      "           1       0.70      0.74      0.71      1553\n",
      "           2       0.83      0.84      0.83      3617\n",
      "\n",
      "    accuracy                           0.80      8232\n",
      "   macro avg       0.78      0.79      0.78      8232\n",
      "weighted avg       0.80      0.80      0.80      8232\n",
      "\n"
     ]
    },
    {
     "name": "stderr",
     "output_type": "stream",
     "text": [
      "/opt/conda/lib/python3.7/site-packages/sklearn/linear_model/_logistic.py:764: ConvergenceWarning: lbfgs failed to converge (status=1):\n",
      "STOP: TOTAL NO. of ITERATIONS REACHED LIMIT.\n",
      "\n",
      "Increase the number of iterations (max_iter) or scale the data as shown in:\n",
      "    https://scikit-learn.org/stable/modules/preprocessing.html\n",
      "Please also refer to the documentation for alternative solver options:\n",
      "    https://scikit-learn.org/stable/modules/linear_model.html#logistic-regression\n",
      "  extra_warning_msg=_LOGISTIC_SOLVER_CONVERGENCE_MSG)\n"
     ]
    }
   ],
   "source": [
    "model = LogisticRegression(random_state=42).fit(x_train_vector, y_train)\n",
    "print(classification_report(y_val, model.predict(x_val_vector)))"
   ]
  },
  {
   "cell_type": "markdown",
   "metadata": {
    "papermill": {
     "duration": 0.051419,
     "end_time": "2020-12-14T14:14:49.644679",
     "exception": false,
     "start_time": "2020-12-14T14:14:49.593260",
     "status": "completed"
    },
    "tags": []
   },
   "source": [
    "### The performance of logistric regression is better, now try to tune the hyperparameters."
   ]
  },
  {
   "cell_type": "code",
   "execution_count": 31,
   "metadata": {
    "execution": {
     "iopub.execute_input": "2020-12-14T14:14:49.753019Z",
     "iopub.status.busy": "2020-12-14T14:14:49.751961Z",
     "iopub.status.idle": "2020-12-14T14:14:49.755679Z",
     "shell.execute_reply": "2020-12-14T14:14:49.756187Z"
    },
    "papermill": {
     "duration": 0.059936,
     "end_time": "2020-12-14T14:14:49.756308",
     "exception": false,
     "start_time": "2020-12-14T14:14:49.696372",
     "status": "completed"
    },
    "tags": []
   },
   "outputs": [
    {
     "ename": "SyntaxError",
     "evalue": "invalid syntax (<ipython-input-31-01e061b0a130>, line 5)",
     "output_type": "error",
     "traceback": [
      "\u001b[0;36m  File \u001b[0;32m\"<ipython-input-31-01e061b0a130>\"\u001b[0;36m, line \u001b[0;32m5\u001b[0m\n\u001b[0;31m    }\u001b[0m\n\u001b[0m    ^\u001b[0m\n\u001b[0;31mSyntaxError\u001b[0m\u001b[0;31m:\u001b[0m invalid syntax\n"
     ]
    }
   ],
   "source": [
    "#params = {\n",
    "    #'solver':['liblinear','saga','newton-cg','lbfgs'],\n",
    "   # 'C':[0.001,0.01,0.1,1,10,100],\n",
    "    # 'penalty':['l1','l2']\n",
    "}\n",
    "\n",
    "#lr_grid = GridSearchCV(LogisticRegression(random_state=42),params, cv=5, verbose=2, n_jobs=-1)\n",
    "#lr_grid.fit(x_train_vector, y_train)\n",
    "\n",
    "#print(classification_report(y_val, lr_grid.predict(x_val_vector)))"
   ]
  },
  {
   "cell_type": "markdown",
   "metadata": {
    "papermill": {
     "duration": 0.052394,
     "end_time": "2020-12-14T14:14:49.860629",
     "exception": false,
     "start_time": "2020-12-14T14:14:49.808235",
     "status": "completed"
    },
    "tags": []
   },
   "source": [
    "# Use tf-idf as vectorizer"
   ]
  },
  {
   "cell_type": "code",
   "execution_count": 32,
   "metadata": {
    "execution": {
     "iopub.execute_input": "2020-12-14T14:14:49.968233Z",
     "iopub.status.busy": "2020-12-14T14:14:49.967259Z",
     "iopub.status.idle": "2020-12-14T14:14:54.569347Z",
     "shell.execute_reply": "2020-12-14T14:14:54.568712Z"
    },
    "papermill": {
     "duration": 4.657146,
     "end_time": "2020-12-14T14:14:54.569458",
     "exception": false,
     "start_time": "2020-12-14T14:14:49.912312",
     "status": "completed"
    },
    "tags": []
   },
   "outputs": [],
   "source": [
    "vectorizer = TfidfVectorizer(min_df=5, ngram_range=(1,2),stop_words='english').fit(comp_df.corpus)\n",
    "\n",
    "x_train_tf = vectorizer.transform(x_train)\n",
    "x_val_tf = vectorizer.transform(x_val)"
   ]
  },
  {
   "cell_type": "code",
   "execution_count": 33,
   "metadata": {
    "execution": {
     "iopub.execute_input": "2020-12-14T14:14:54.681874Z",
     "iopub.status.busy": "2020-12-14T14:14:54.681212Z",
     "iopub.status.idle": "2020-12-14T14:14:55.159271Z",
     "shell.execute_reply": "2020-12-14T14:14:55.158429Z"
    },
    "papermill": {
     "duration": 0.53776,
     "end_time": "2020-12-14T14:14:55.159402",
     "exception": false,
     "start_time": "2020-12-14T14:14:54.621642",
     "status": "completed"
    },
    "tags": []
   },
   "outputs": [
    {
     "data": {
      "text/plain": [
       "Text(0.5, 0, 'Weight')"
      ]
     },
     "execution_count": 33,
     "metadata": {},
     "output_type": "execute_result"
    },
    {
     "data": {
      "image/png": "[encoded data removed]",
      "text/plain": [
       "<Figure size 1440x720 with 1 Axes>"
      ]
     },
     "metadata": {
      "needs_background": "light"
     },
     "output_type": "display_data"
    }
   ],
   "source": [
    "# Show the top 20 words \n",
    "feature_weight = x_train_tf.sum(axis=0).tolist()[0]\n",
    "features = pd.DataFrame(feature_weight)\n",
    "features.index =  list(vectorizer.get_feature_names())\n",
    "features.sort_values(by=[0],ascending=False).head(30).plot.barh(figsize=(20,10))\n",
    "plt.xlabel('Weight')"
   ]
  },
  {
   "cell_type": "markdown",
   "metadata": {
    "papermill": {
     "duration": 0.052833,
     "end_time": "2020-12-14T14:14:55.266397",
     "exception": false,
     "start_time": "2020-12-14T14:14:55.213564",
     "status": "completed"
    },
    "tags": []
   },
   "source": [
    "### Model training\n",
    "- logistric regression"
   ]
  },
  {
   "cell_type": "code",
   "execution_count": 34,
   "metadata": {
    "execution": {
     "iopub.execute_input": "2020-12-14T14:14:55.381003Z",
     "iopub.status.busy": "2020-12-14T14:14:55.379996Z",
     "iopub.status.idle": "2020-12-14T14:14:59.976928Z",
     "shell.execute_reply": "2020-12-14T14:14:59.975974Z"
    },
    "papermill": {
     "duration": 4.657476,
     "end_time": "2020-12-14T14:14:59.977091",
     "exception": false,
     "start_time": "2020-12-14T14:14:55.319615",
     "status": "completed"
    },
    "tags": []
   },
   "outputs": [
    {
     "name": "stdout",
     "output_type": "stream",
     "text": [
      "              precision    recall  f1-score   support\n",
      "\n",
      "           0       0.79      0.80      0.79      3062\n",
      "           1       0.74      0.60      0.66      1553\n",
      "           2       0.80      0.85      0.83      3617\n",
      "\n",
      "    accuracy                           0.79      8232\n",
      "   macro avg       0.78      0.75      0.76      8232\n",
      "weighted avg       0.79      0.79      0.78      8232\n",
      "\n"
     ]
    },
    {
     "name": "stderr",
     "output_type": "stream",
     "text": [
      "/opt/conda/lib/python3.7/site-packages/sklearn/linear_model/_logistic.py:764: ConvergenceWarning: lbfgs failed to converge (status=1):\n",
      "STOP: TOTAL NO. of ITERATIONS REACHED LIMIT.\n",
      "\n",
      "Increase the number of iterations (max_iter) or scale the data as shown in:\n",
      "    https://scikit-learn.org/stable/modules/preprocessing.html\n",
      "Please also refer to the documentation for alternative solver options:\n",
      "    https://scikit-learn.org/stable/modules/linear_model.html#logistic-regression\n",
      "  extra_warning_msg=_LOGISTIC_SOLVER_CONVERGENCE_MSG)\n"
     ]
    }
   ],
   "source": [
    "model = LogisticRegression(random_state=42).fit(x_train_tf,y_train)\n",
    "print(classification_report(y_val, model.predict(x_val_tf)))"
   ]
  },
  {
   "cell_type": "markdown",
   "metadata": {
    "papermill": {
     "duration": 0.087691,
     "end_time": "2020-12-14T14:15:00.146127",
     "exception": false,
     "start_time": "2020-12-14T14:15:00.058436",
     "status": "completed"
    },
    "tags": []
   },
   "source": [
    "### Hyperparameters tuning using gridsearch"
   ]
  },
  {
   "cell_type": "code",
   "execution_count": 35,
   "metadata": {
    "execution": {
     "iopub.execute_input": "2020-12-14T14:15:00.312473Z",
     "iopub.status.busy": "2020-12-14T14:15:00.311651Z",
     "iopub.status.idle": "2020-12-14T14:15:00.316225Z",
     "shell.execute_reply": "2020-12-14T14:15:00.315539Z"
    },
    "papermill": {
     "duration": 0.089577,
     "end_time": "2020-12-14T14:15:00.316359",
     "exception": false,
     "start_time": "2020-12-14T14:15:00.226782",
     "status": "completed"
    },
    "tags": []
   },
   "outputs": [
    {
     "ename": "SyntaxError",
     "evalue": "invalid syntax (<ipython-input-35-e047b0210681>, line 5)",
     "output_type": "error",
     "traceback": [
      "\u001b[0;36m  File \u001b[0;32m\"<ipython-input-35-e047b0210681>\"\u001b[0;36m, line \u001b[0;32m5\u001b[0m\n\u001b[0;31m    }\u001b[0m\n\u001b[0m    ^\u001b[0m\n\u001b[0;31mSyntaxError\u001b[0m\u001b[0;31m:\u001b[0m invalid syntax\n"
     ]
    }
   ],
   "source": [
    "#params = {\n",
    "    #'solver':['liblinear','saga','newton-cg','lbfgs'],\n",
    "    #'C':[0.001,0.01,0.1,1,10,100],\n",
    "    #'penalty':['l1','l2']\n",
    "}\n",
    "\n",
    "#lr_grid02 = GridSearchCV(LogisticRegression(random_state=42),params, cv=10, verbose=2, n_jobs=-1)\n",
    "#lr_grid02.fit(x_train_tf, y_train)\n",
    "\n",
    "#print(classification_report(y_val, lr_grid02.predict(x_val_tf)))"
   ]
  },
  {
   "cell_type": "code",
   "execution_count": 36,
   "metadata": {
    "execution": {
     "iopub.execute_input": "2020-12-14T14:15:00.432413Z",
     "iopub.status.busy": "2020-12-14T14:15:00.431764Z",
     "iopub.status.idle": "2020-12-14T14:15:00.436634Z",
     "shell.execute_reply": "2020-12-14T14:15:00.437177Z"
    },
    "papermill": {
     "duration": 0.063705,
     "end_time": "2020-12-14T14:15:00.437300",
     "exception": false,
     "start_time": "2020-12-14T14:15:00.373595",
     "status": "completed"
    },
    "tags": []
   },
   "outputs": [],
   "source": [
    "#lr_grid.best_estimator_"
   ]
  },
  {
   "cell_type": "markdown",
   "metadata": {
    "papermill": {
     "duration": 0.054547,
     "end_time": "2020-12-14T14:15:00.547294",
     "exception": false,
     "start_time": "2020-12-14T14:15:00.492747",
     "status": "completed"
    },
    "tags": []
   },
   "source": [
    "# Prediction on test data"
   ]
  },
  {
   "cell_type": "code",
   "execution_count": 37,
   "metadata": {
    "execution": {
     "iopub.execute_input": "2020-12-14T14:15:00.664226Z",
     "iopub.status.busy": "2020-12-14T14:15:00.663551Z",
     "iopub.status.idle": "2020-12-14T14:15:41.797065Z",
     "shell.execute_reply": "2020-12-14T14:15:41.796523Z"
    },
    "papermill": {
     "duration": 41.195103,
     "end_time": "2020-12-14T14:15:41.797166",
     "exception": false,
     "start_time": "2020-12-14T14:15:00.602063",
     "status": "completed"
    },
    "tags": []
   },
   "outputs": [
    {
     "name": "stderr",
     "output_type": "stream",
     "text": [
      "/opt/conda/lib/python3.7/site-packages/sklearn/linear_model/_sag.py:330: ConvergenceWarning: The max_iter was reached which means the coef_ did not converge\n",
      "  \"the coef_ did not converge\", ConvergenceWarning)\n"
     ]
    },
    {
     "data": {
      "text/plain": [
       "LogisticRegression(C=1, penalty='l1', random_state=42, solver='saga')"
      ]
     },
     "execution_count": 37,
     "metadata": {},
     "output_type": "execute_result"
    }
   ],
   "source": [
    "#To skip the training time on kaggle, I use the best parameter found in my notebook directly\n",
    "best_model = LogisticRegression(C=1, penalty='l1', random_state=42, solver='saga')\n",
    "best_model.fit(x_train_tf, y_train)"
   ]
  },
  {
   "cell_type": "code",
   "execution_count": 38,
   "metadata": {
    "execution": {
     "iopub.execute_input": "2020-12-14T14:15:41.915860Z",
     "iopub.status.busy": "2020-12-14T14:15:41.915155Z",
     "iopub.status.idle": "2020-12-14T14:15:41.943634Z",
     "shell.execute_reply": "2020-12-14T14:15:41.944364Z"
    },
    "papermill": {
     "duration": 0.090485,
     "end_time": "2020-12-14T14:15:41.944547",
     "exception": false,
     "start_time": "2020-12-14T14:15:41.854062",
     "status": "completed"
    },
    "tags": []
   },
   "outputs": [
    {
     "name": "stdout",
     "output_type": "stream",
     "text": [
      "              precision    recall  f1-score   support\n",
      "\n",
      "           0       0.85      0.81      0.83      3062\n",
      "           1       0.72      0.82      0.77      1553\n",
      "           2       0.87      0.85      0.86      3617\n",
      "\n",
      "    accuracy                           0.83      8232\n",
      "   macro avg       0.81      0.83      0.82      8232\n",
      "weighted avg       0.83      0.83      0.83      8232\n",
      "\n"
     ]
    }
   ],
   "source": [
    "# The best model performance on validation dataset\n",
    "print(classification_report(y_val, best_model.predict(x_val_tf)))"
   ]
  },
  {
   "cell_type": "markdown",
   "metadata": {
    "papermill": {
     "duration": 0.082132,
     "end_time": "2020-12-14T14:15:42.109398",
     "exception": false,
     "start_time": "2020-12-14T14:15:42.027266",
     "status": "completed"
    },
    "tags": []
   },
   "source": [
    "### Now do prediction on the test data"
   ]
  },
  {
   "cell_type": "code",
   "execution_count": 39,
   "metadata": {
    "execution": {
     "iopub.execute_input": "2020-12-14T14:15:42.290013Z",
     "iopub.status.busy": "2020-12-14T14:15:42.284971Z",
     "iopub.status.idle": "2020-12-14T14:15:42.602870Z",
     "shell.execute_reply": "2020-12-14T14:15:42.601996Z"
    },
    "papermill": {
     "duration": 0.410014,
     "end_time": "2020-12-14T14:15:42.603000",
     "exception": false,
     "start_time": "2020-12-14T14:15:42.192986",
     "status": "completed"
    },
    "tags": []
   },
   "outputs": [],
   "source": [
    "x_test_tf = vectorizer.transform(x_test)"
   ]
  },
  {
   "cell_type": "code",
   "execution_count": 40,
   "metadata": {
    "execution": {
     "iopub.execute_input": "2020-12-14T14:15:42.776367Z",
     "iopub.status.busy": "2020-12-14T14:15:42.775249Z",
     "iopub.status.idle": "2020-12-14T14:15:42.794672Z",
     "shell.execute_reply": "2020-12-14T14:15:42.793789Z"
    },
    "papermill": {
     "duration": 0.108147,
     "end_time": "2020-12-14T14:15:42.794831",
     "exception": false,
     "start_time": "2020-12-14T14:15:42.686684",
     "status": "completed"
    },
    "tags": []
   },
   "outputs": [
    {
     "name": "stdout",
     "output_type": "stream",
     "text": [
      "              precision    recall  f1-score   support\n",
      "\n",
      "           0       0.84      0.78      0.81      1633\n",
      "           1       0.67      0.77      0.72       619\n",
      "           2       0.83      0.84      0.83      1546\n",
      "\n",
      "    accuracy                           0.80      3798\n",
      "   macro avg       0.78      0.80      0.79      3798\n",
      "weighted avg       0.81      0.80      0.80      3798\n",
      "\n"
     ]
    }
   ],
   "source": [
    "y_pred = best_model.predict(x_test_tf)\n",
    "print(classification_report(y_test, y_pred))"
   ]
  },
  {
   "cell_type": "markdown",
   "metadata": {
    "papermill": {
     "duration": 0.083659,
     "end_time": "2020-12-14T14:15:42.963600",
     "exception": false,
     "start_time": "2020-12-14T14:15:42.879941",
     "status": "completed"
    },
    "tags": []
   },
   "source": [
    "### Heat map of the prediction"
   ]
  },
  {
   "cell_type": "code",
   "execution_count": 41,
   "metadata": {
    "execution": {
     "iopub.execute_input": "2020-12-14T14:15:43.143801Z",
     "iopub.status.busy": "2020-12-14T14:15:43.139494Z",
     "iopub.status.idle": "2020-12-14T14:15:43.356341Z",
     "shell.execute_reply": "2020-12-14T14:15:43.356950Z"
    },
    "papermill": {
     "duration": 0.309536,
     "end_time": "2020-12-14T14:15:43.357085",
     "exception": false,
     "start_time": "2020-12-14T14:15:43.047549",
     "status": "completed"
    },
    "tags": []
   },
   "outputs": [
    {
     "data": {
      "text/plain": [
       "Text(0.5, 15.0, 'Predicted')"
      ]
     },
     "execution_count": 41,
     "metadata": {},
     "output_type": "execute_result"
    },
    {
     "data": {
      "image/png": "[encoded data removed]",
      "text/plain": [
       "<Figure size 432x288 with 2 Axes>"
      ]
     },
     "metadata": {
      "needs_background": "light"
     },
     "output_type": "display_data"
    }
   ],
   "source": [
    "from sklearn.metrics import confusion_matrix\n",
    "plt.figure(figsize=(6,4))\n",
    "sns.heatmap(confusion_matrix(y_test, y_pred), annot=True, fmt='d',annot_kws={'size':17}, cmap='Reds')\n",
    "plt.ylabel('True')\n",
    "plt.xlabel('Predicted')"
   ]
  },
  {
   "cell_type": "markdown",
   "metadata": {
    "papermill": {
     "duration": 0.058957,
     "end_time": "2020-12-14T14:15:43.475704",
     "exception": false,
     "start_time": "2020-12-14T14:15:43.416747",
     "status": "completed"
    },
    "tags": []
   },
   "source": [
    "## Thank you very much"
   ]
  }
 ],
 "metadata": {
  "kernelspec": {
   "display_name": "Python 3",
   "language": "python",
   "name": "python3"
  },
  "language_info": {
   "codemirror_mode": {
    "name": "ipython",
    "version": 3
   },
   "file_extension": ".py",
   "mimetype": "text/x-python",
   "name": "python",
   "nbconvert_exporter": "python",
   "pygments_lexer": "ipython3",
   "version": "3.7.6"
  },
  "papermill": {
   "duration": 132.227256,
   "end_time": "2020-12-14T14:15:43.655022",
   "environment_variables": {},
   "exception": null,
   "input_path": "__notebook__.ipynb",
   "output_path": "__notebook__.ipynb",
   "parameters": {},
   "start_time": "2020-12-14T14:13:31.427766",
   "version": "2.1.0"
  }
 },
 "nbformat": 4,
 "nbformat_minor": 4
}
