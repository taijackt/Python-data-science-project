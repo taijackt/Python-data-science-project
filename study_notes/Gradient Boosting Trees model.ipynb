{
 "cells": [
  {
   "cell_type": "markdown",
   "metadata": {},
   "source": [
    "# Gradient Boosting Machines Algorithm\n",
    "### Introduction\n",
    "- Gradient boosting refers to a class of ensemble machine learning algorithms that can be used for classification or regression.\n",
    "\n",
    "- Ensembels are constructed from decision tree models. Trees are added one at a time to the model and fit to correct the prediction errors made by the prior model.\n",
    "\n",
    "- Models aer fit using differentiable loss function and greaident descent optimization algorithm. This is why it is called 'graident boosting'."
   ]
  },
  {
   "cell_type": "code",
   "execution_count": 46,
   "metadata": {},
   "outputs": [],
   "source": [
    "import numpy as np\n",
    "import pandas as pd\n",
    "from sklearn.model_selection import cross_val_score, RepeatedStratifiedKFold, RepeatedKFold, GridSearchCV\n",
    "from sklearn.ensemble import GradientBoostingClassifier, GradientBoostingRegressor\n",
    "from sklearn.datasets import make_classification, make_regression\n",
    "import seaborn as sns\n",
    "import matplotlib.pyplot as plt\n",
    "\n",
    "# function to create dataset\n",
    "def make_data(regression=False):\n",
    "    if regression==True:\n",
    "        X, y = make_regression(n_samples=1000, n_features=20, n_informative=15, noise=0.1, random_state=7)\n",
    "    else:\n",
    "        X, y = make_classification(n_samples=1000, n_features=20, n_informative=15, n_redundant=5, random_state=7)\n",
    "    return (X, y)"
   ]
  },
  {
   "cell_type": "code",
   "execution_count": 47,
   "metadata": {},
   "outputs": [],
   "source": [
    "x, y = make_data()"
   ]
  },
  {
   "cell_type": "markdown",
   "metadata": {},
   "source": [
    "### Gradient Boosting for classification"
   ]
  },
  {
   "cell_type": "code",
   "execution_count": 48,
   "metadata": {},
   "outputs": [
    {
     "name": "stdout",
     "output_type": "stream",
     "text": [
      "Mean accuracy: 0.899(0.030)\n"
     ]
    }
   ],
   "source": [
    "model = GradientBoostingClassifier()\n",
    "\n",
    "cv = RepeatedStratifiedKFold(n_splits=10, n_repeats=3, random_state=1)\n",
    "\n",
    "n_scores = cross_val_score(model, x, y, scoring='accuracy', cv=cv, n_jobs=-1)\n",
    "\n",
    "print('Mean accuracy: {:.3f}({:.3f})'.format(np.mean(n_scores),np.std(n_scores)))"
   ]
  },
  {
   "cell_type": "code",
   "execution_count": 49,
   "metadata": {},
   "outputs": [],
   "source": [
    "n_scores = cross_val_score(model, x, y, scoring='accuracy', cv=cv, n_jobs=-1)"
   ]
  },
  {
   "cell_type": "markdown",
   "metadata": {},
   "source": [
    "### Gradient Boosting for regression"
   ]
  },
  {
   "cell_type": "code",
   "execution_count": 50,
   "metadata": {},
   "outputs": [],
   "source": [
    "x, y = make_data(regression=True)\n",
    "model=GradientBoostingRegressor()\n",
    "cv= RepeatedKFold(n_splits=19, n_repeats=3, random_state=1)"
   ]
  },
  {
   "cell_type": "code",
   "execution_count": 51,
   "metadata": {},
   "outputs": [
    {
     "name": "stdout",
     "output_type": "stream",
     "text": [
      "MAE: -61.725(6.462)\n"
     ]
    }
   ],
   "source": [
    "n_scores = cross_val_score(model, x,y,scoring='neg_mean_absolute_error',cv=cv, n_jobs=-1)\n",
    "print('MAE: {:.3f}({:.3f})'.format(np.mean(n_scores),np.std(n_scores)))"
   ]
  },
  {
   "cell_type": "markdown",
   "metadata": {},
   "source": [
    "# Tuning Hyperparameters \n",
    "\n",
    "- There are four big groups of hyperparameters for gradient boosting model.\n",
    "\n",
    "    - The number of models: n_estimators\n",
    "    - The learning rate of each tree in model\n",
    "    - the samples that used to train\n",
    "    - the depth of each tree"
   ]
  },
  {
   "cell_type": "markdown",
   "metadata": {},
   "source": [
    "## explore the number of Trees\n",
    "- n_estimators = 100 default"
   ]
  },
  {
   "cell_type": "code",
   "execution_count": 52,
   "metadata": {},
   "outputs": [],
   "source": [
    "score_list = []\n",
    "x,y = make_data()\n",
    "\n",
    "def evaluation(model, x,y):\n",
    "    cv = RepeatedStratifiedKFold(n_splits=10, n_repeats=3, random_state=1)\n",
    "    scores = cross_val_score(model, x ,y, scoring='accuracy',cv=cv, n_jobs=-1)\n",
    "    return scores\n",
    "\n",
    "estimators = [10,50,100,500,1000,5000]\n",
    "for trees in estimators:\n",
    "    scores = evaluation(GradientBoostingClassifier(n_estimators=trees), x ,y)\n",
    "    score_list.append(scores)"
   ]
  },
  {
   "cell_type": "code",
   "execution_count": 66,
   "metadata": {},
   "outputs": [],
   "source": [
    "score_df = pd.DataFrame(score_list)\n",
    "score_df = score_df.T\n",
    "score_df.columns = estimators\n",
    "score_df.plot.box()"
   ]
  },
  {
   "cell_type": "markdown",
   "metadata": {},
   "source": [
    "## Explore number of samples : 'subsample'\n",
    "\n",
    "- The number of samples used to fit each tree can be varied. Each tree is fit on a randomly selected subset of the training dataset.\n",
    "- Using fewer samples introduces more variance for each tree and improve the oversall performance of the model.\n",
    "- 'subsample' can be set to a fraction of the training dataset size. default = 1.0"
   ]
  },
  {
   "cell_type": "code",
   "execution_count": 82,
   "metadata": {},
   "outputs": [],
   "source": [
    "score_list = []\n",
    "subsample_rate = np.arange(0.1,1.1,0.1)\n",
    "x,y = make_data()\n",
    "\n",
    "for sample_rate in subsample_rate:\n",
    "    scores = evaluation(GradientBoostingClassifier(subsample=sample_rate, random_state=42), x ,y)\n",
    "    score_list.append(scores)"
   ]
  },
  {
   "cell_type": "code",
   "execution_count": 106,
   "metadata": {},
   "outputs": [
    {
     "data": {
      "text/plain": [
       "<matplotlib.axes._subplots.AxesSubplot at 0x294b18d12e8>"
      ]
     },
     "execution_count": 106,
     "metadata": {},
     "output_type": "execute_result"
    },
    {
     "data": {
      "image/png": "[encoded data removed]",
      "text/plain": [
       "<Figure size 720x360 with 1 Axes>"
      ]
     },
     "metadata": {
      "needs_background": "light"
     },
     "output_type": "display_data"
    }
   ],
   "source": [
    "score_df = pd.DataFrame(score_list)\n",
    "score_df = score_df.T\n",
    "score_df.columns = subsample_rate.round(1)\n",
    "score_df.plot.box(figsize=(10,5))"
   ]
  },
  {
   "cell_type": "markdown",
   "metadata": {},
   "source": [
    "## Explore number of features - max_features\n",
    "- The number of features used to fit tree can be varied\n",
    "- changing the number of features introduces additional variance into the model, which may improve performance\n"
   ]
  },
  {
   "cell_type": "code",
   "execution_count": 107,
   "metadata": {},
   "outputs": [],
   "source": [
    "score_list = []\n",
    "features = list(range(1,21))\n",
    "x,y = make_data()\n",
    "\n",
    "for feature in features:\n",
    "    scores = evaluation(GradientBoostingClassifier(max_features=feature, random_state=42), x ,y)\n",
    "    score_list.append(scores)"
   ]
  },
  {
   "cell_type": "code",
   "execution_count": 108,
   "metadata": {},
   "outputs": [
    {
     "data": {
      "text/plain": [
       "<matplotlib.axes._subplots.AxesSubplot at 0x294b1a2bd68>"
      ]
     },
     "execution_count": 108,
     "metadata": {},
     "output_type": "execute_result"
    },
    {
     "data": {
      "image/png": "[encoded data removed]",
      "text/plain": [
       "<Figure size 720x360 with 1 Axes>"
      ]
     },
     "metadata": {
      "needs_background": "light"
     },
     "output_type": "display_data"
    }
   ],
   "source": [
    "score_df = pd.DataFrame(score_list)\n",
    "score_df = score_df.T\n",
    "score_df.columns = features\n",
    "score_df.plot.box(figsize=(10,5))"
   ]
  },
  {
   "cell_type": "markdown",
   "metadata": {},
   "source": [
    "## Explore learning rate\n",
    "- The amount of contribution that each model has on the ensemble prediction\n",
    "- smaller rate require more decision trees. large rate require fewer trees.\n",
    "- It is common to explore learning rate values on a log scale, such as 0.0001 to 1.0\n",
    "- default is 0.1"
   ]
  },
  {
   "cell_type": "code",
   "execution_count": 109,
   "metadata": {},
   "outputs": [],
   "source": [
    "score_list = []\n",
    "learning_rate = [0.0001,0.001,0.01,0.1,1]\n",
    "x,y = make_data()\n",
    "\n",
    "for rate in learning_rate:\n",
    "    scores = evaluation(GradientBoostingClassifier(learning_rate=rate, random_state=42), x ,y)\n",
    "    score_list.append(scores)"
   ]
  },
  {
   "cell_type": "code",
   "execution_count": 110,
   "metadata": {},
   "outputs": [
    {
     "data": {
      "text/plain": [
       "<matplotlib.axes._subplots.AxesSubplot at 0x294ad2b5518>"
      ]
     },
     "execution_count": 110,
     "metadata": {},
     "output_type": "execute_result"
    },
    {
     "data": {
      "image/png": "[encoded data removed]",
      "text/plain": [
       "<Figure size 720x360 with 1 Axes>"
      ]
     },
     "metadata": {
      "needs_background": "light"
     },
     "output_type": "display_data"
    }
   ],
   "source": [
    "score_df = pd.DataFrame(score_list)\n",
    "score_df = score_df.T\n",
    "score_df.columns = learning_rate\n",
    "score_df.plot.box(figsize=(10,5))"
   ]
  },
  {
   "cell_type": "markdown",
   "metadata": {},
   "source": [
    "- This highlights the trade-off between the number of trees (speed of training) and learning rate, \n",
    "- Bacause we can fit a model faster by using fewer trees and a larger learning rate."
   ]
  },
  {
   "cell_type": "markdown",
   "metadata": {},
   "source": [
    "## Explore the Tree Depth\n",
    "- tree depth controls how specialized each tree is: how general or overfit it might be.\n",
    "- Gredient boosting performs well with trees that have a modest depth find a balance between skill and gernality.\n",
    "- 'max_depth' defaults to 3."
   ]
  },
  {
   "cell_type": "code",
   "execution_count": 112,
   "metadata": {},
   "outputs": [],
   "source": [
    "score_list = []\n",
    "tree_depth = list(range(1,11)) \n",
    "x,y = make_data()\n",
    "\n",
    "for depth in tree_depth:\n",
    "    scores = evaluation(GradientBoostingClassifier(max_depth=depth, random_state=42), x ,y)\n",
    "    score_list.append(scores)"
   ]
  },
  {
   "cell_type": "code",
   "execution_count": 113,
   "metadata": {},
   "outputs": [
    {
     "data": {
      "text/plain": [
       "<matplotlib.axes._subplots.AxesSubplot at 0x294ad505240>"
      ]
     },
     "execution_count": 113,
     "metadata": {},
     "output_type": "execute_result"
    },
    {
     "data": {
      "image/png": "[encoded data removed]",
      "text/plain": [
       "<Figure size 720x360 with 1 Axes>"
      ]
     },
     "metadata": {
      "needs_background": "light"
     },
     "output_type": "display_data"
    }
   ],
   "source": [
    "score_df = pd.DataFrame(score_list)\n",
    "score_df = score_df.T\n",
    "score_df.columns = tree_depth\n",
    "score_df.plot.box(figsize=(10,5))"
   ]
  },
  {
   "cell_type": "markdown",
   "metadata": {},
   "source": [
    "# Using GridSearch for hyperparameters\n",
    "\n",
    "Four key hyperparameters:\n",
    "1. number of trees : n_estimators\n",
    "2. Learning rate\n",
    "3. Subsample size: sub_sample\n",
    "4. Maximum depth: max_depth\n",
    "    "
   ]
  },
  {
   "cell_type": "code",
   "execution_count": 114,
   "metadata": {},
   "outputs": [
    {
     "name": "stdout",
     "output_type": "stream",
     "text": [
      "Fitting 30 folds for each of 180 candidates, totalling 5400 fits\n"
     ]
    },
    {
     "name": "stderr",
     "output_type": "stream",
     "text": [
      "[Parallel(n_jobs=-1)]: Using backend LokyBackend with 4 concurrent workers.\n",
      "[Parallel(n_jobs=-1)]: Done 128 tasks      | elapsed:    3.4s\n",
      "[Parallel(n_jobs=-1)]: Done 332 tasks      | elapsed:   53.9s\n",
      "[Parallel(n_jobs=-1)]: Done 582 tasks      | elapsed:  1.7min\n",
      "[Parallel(n_jobs=-1)]: Done 932 tasks      | elapsed:  4.8min\n",
      "[Parallel(n_jobs=-1)]: Done 1498 tasks      | elapsed:  9.9min\n",
      "[Parallel(n_jobs=-1)]: Done 2048 tasks      | elapsed: 14.1min\n",
      "[Parallel(n_jobs=-1)]: Done 2790 tasks      | elapsed: 19.5min\n",
      "[Parallel(n_jobs=-1)]: Done 3624 tasks      | elapsed: 27.2min\n",
      "[Parallel(n_jobs=-1)]: Done 4566 tasks      | elapsed: 34.1min\n",
      "[Parallel(n_jobs=-1)]: Done 5400 out of 5400 | elapsed: 40.3min finished\n"
     ]
    }
   ],
   "source": [
    "params = {\n",
    "    'n_estimators':[10,50,100,500],\n",
    "    'learning_rate':[0.0001,0.001,0.01,0.1,1],\n",
    "    'subsample':[0.5,0.7,1],\n",
    "    'max_depth':[3,7,9]\n",
    "}\n",
    "x ,y = make_data()\n",
    "cv = RepeatedStratifiedKFold(n_splits=10, n_repeats=3, random_state=1)\n",
    "model = GradientBoostingClassifier()\n",
    "grid_search = GridSearchCV(model, params, cv=cv, n_jobs=-1, verbose=1,scoring='accuracy')\n",
    "grid_result = grid_search.fit(x,y)"
   ]
  },
  {
   "cell_type": "code",
   "execution_count": 116,
   "metadata": {},
   "outputs": [
    {
     "name": "stdout",
     "output_type": "stream",
     "text": [
      "Best mark: 0.9473333333333332 \n",
      "Best params: {'learning_rate': 0.1, 'max_depth': 7, 'n_estimators': 500, 'subsample': 0.7}\n"
     ]
    }
   ],
   "source": [
    "print('Best mark:',grid_result.best_score_, '\\nBest params:',grid_result.best_params_)"
   ]
  },
  {
   "cell_type": "code",
   "execution_count": 117,
   "metadata": {},
   "outputs": [],
   "source": [
    "means = grid_result.cv_results_['mean_test_score']\n",
    "stds = grid_result.cv_results_['std_test_score']\n",
    "params = grid_result.cv_results_['params']"
   ]
  },
  {
   "cell_type": "code",
   "execution_count": 118,
   "metadata": {},
   "outputs": [
    {
     "name": "stdout",
     "output_type": "stream",
     "text": [
      "0.525333 (0.076058) with: {'learning_rate': 0.0001, 'max_depth': 3, 'n_estimators': 10, 'subsample': 0.5}\n",
      "0.524333 (0.073742) with: {'learning_rate': 0.0001, 'max_depth': 3, 'n_estimators': 10, 'subsample': 0.7}\n",
      "0.524000 (0.072874) with: {'learning_rate': 0.0001, 'max_depth': 3, 'n_estimators': 10, 'subsample': 1}\n",
      "0.772000 (0.041344) with: {'learning_rate': 0.0001, 'max_depth': 3, 'n_estimators': 50, 'subsample': 0.5}\n",
      "0.771333 (0.033639) with: {'learning_rate': 0.0001, 'max_depth': 3, 'n_estimators': 50, 'subsample': 0.7}\n",
      "0.738667 (0.049982) with: {'learning_rate': 0.0001, 'max_depth': 3, 'n_estimators': 50, 'subsample': 1}\n",
      "0.826000 (0.030067) with: {'learning_rate': 0.0001, 'max_depth': 3, 'n_estimators': 100, 'subsample': 0.5}\n",
      "0.817667 (0.038616) with: {'learning_rate': 0.0001, 'max_depth': 3, 'n_estimators': 100, 'subsample': 0.7}\n",
      "0.761000 (0.043077) with: {'learning_rate': 0.0001, 'max_depth': 3, 'n_estimators': 100, 'subsample': 1}\n",
      "0.830667 (0.037411) with: {'learning_rate': 0.0001, 'max_depth': 3, 'n_estimators': 500, 'subsample': 0.5}\n",
      "0.814667 (0.043415) with: {'learning_rate': 0.0001, 'max_depth': 3, 'n_estimators': 500, 'subsample': 0.7}\n",
      "0.773667 (0.034975) with: {'learning_rate': 0.0001, 'max_depth': 3, 'n_estimators': 500, 'subsample': 1}\n",
      "0.536000 (0.108031) with: {'learning_rate': 0.0001, 'max_depth': 7, 'n_estimators': 10, 'subsample': 0.5}\n",
      "0.535000 (0.105032) with: {'learning_rate': 0.0001, 'max_depth': 7, 'n_estimators': 10, 'subsample': 0.7}\n",
      "0.532000 (0.096243) with: {'learning_rate': 0.0001, 'max_depth': 7, 'n_estimators': 10, 'subsample': 1}\n",
      "0.829333 (0.033658) with: {'learning_rate': 0.0001, 'max_depth': 7, 'n_estimators': 50, 'subsample': 0.5}\n",
      "0.843667 (0.029943) with: {'learning_rate': 0.0001, 'max_depth': 7, 'n_estimators': 50, 'subsample': 0.7}\n",
      "0.803000 (0.029905) with: {'learning_rate': 0.0001, 'max_depth': 7, 'n_estimators': 50, 'subsample': 1}\n",
      "0.868333 (0.025701) with: {'learning_rate': 0.0001, 'max_depth': 7, 'n_estimators': 100, 'subsample': 0.5}\n",
      "0.866667 (0.027849) with: {'learning_rate': 0.0001, 'max_depth': 7, 'n_estimators': 100, 'subsample': 0.7}\n",
      "0.809333 (0.029881) with: {'learning_rate': 0.0001, 'max_depth': 7, 'n_estimators': 100, 'subsample': 1}\n",
      "0.887333 (0.030652) with: {'learning_rate': 0.0001, 'max_depth': 7, 'n_estimators': 500, 'subsample': 0.5}\n",
      "0.879333 (0.031191) with: {'learning_rate': 0.0001, 'max_depth': 7, 'n_estimators': 500, 'subsample': 0.7}\n",
      "0.810333 (0.032402) with: {'learning_rate': 0.0001, 'max_depth': 7, 'n_estimators': 500, 'subsample': 1}\n",
      "0.537667 (0.113363) with: {'learning_rate': 0.0001, 'max_depth': 9, 'n_estimators': 10, 'subsample': 0.5}\n",
      "0.536667 (0.110071) with: {'learning_rate': 0.0001, 'max_depth': 9, 'n_estimators': 10, 'subsample': 0.7}\n",
      "0.532667 (0.098011) with: {'learning_rate': 0.0001, 'max_depth': 9, 'n_estimators': 10, 'subsample': 1}\n",
      "0.831333 (0.037214) with: {'learning_rate': 0.0001, 'max_depth': 9, 'n_estimators': 50, 'subsample': 0.5}\n",
      "0.845333 (0.034228) with: {'learning_rate': 0.0001, 'max_depth': 9, 'n_estimators': 50, 'subsample': 0.7}\n",
      "0.808000 (0.030485) with: {'learning_rate': 0.0001, 'max_depth': 9, 'n_estimators': 50, 'subsample': 1}\n",
      "0.874667 (0.027777) with: {'learning_rate': 0.0001, 'max_depth': 9, 'n_estimators': 100, 'subsample': 0.5}\n",
      "0.880667 (0.029432) with: {'learning_rate': 0.0001, 'max_depth': 9, 'n_estimators': 100, 'subsample': 0.7}\n",
      "0.812667 (0.025421) with: {'learning_rate': 0.0001, 'max_depth': 9, 'n_estimators': 100, 'subsample': 1}\n",
      "0.891333 (0.029747) with: {'learning_rate': 0.0001, 'max_depth': 9, 'n_estimators': 500, 'subsample': 0.5}\n",
      "0.885667 (0.025649) with: {'learning_rate': 0.0001, 'max_depth': 9, 'n_estimators': 500, 'subsample': 0.7}\n",
      "0.811000 (0.029479) with: {'learning_rate': 0.0001, 'max_depth': 9, 'n_estimators': 500, 'subsample': 1}\n",
      "0.818333 (0.038217) with: {'learning_rate': 0.001, 'max_depth': 3, 'n_estimators': 10, 'subsample': 0.5}\n",
      "0.802000 (0.034583) with: {'learning_rate': 0.001, 'max_depth': 3, 'n_estimators': 10, 'subsample': 0.7}\n",
      "0.761333 (0.043107) with: {'learning_rate': 0.001, 'max_depth': 3, 'n_estimators': 10, 'subsample': 1}\n",
      "0.828667 (0.039050) with: {'learning_rate': 0.001, 'max_depth': 3, 'n_estimators': 50, 'subsample': 0.5}\n",
      "0.812667 (0.038029) with: {'learning_rate': 0.001, 'max_depth': 3, 'n_estimators': 50, 'subsample': 0.7}\n",
      "0.773667 (0.034975) with: {'learning_rate': 0.001, 'max_depth': 3, 'n_estimators': 50, 'subsample': 1}\n",
      "0.828333 (0.040586) with: {'learning_rate': 0.001, 'max_depth': 3, 'n_estimators': 100, 'subsample': 0.5}\n",
      "0.814333 (0.037210) with: {'learning_rate': 0.001, 'max_depth': 3, 'n_estimators': 100, 'subsample': 0.7}\n",
      "0.781333 (0.034325) with: {'learning_rate': 0.001, 'max_depth': 3, 'n_estimators': 100, 'subsample': 1}\n",
      "0.847000 (0.033081) with: {'learning_rate': 0.001, 'max_depth': 3, 'n_estimators': 500, 'subsample': 0.5}\n",
      "0.834333 (0.036026) with: {'learning_rate': 0.001, 'max_depth': 3, 'n_estimators': 500, 'subsample': 0.7}\n",
      "0.814333 (0.032730) with: {'learning_rate': 0.001, 'max_depth': 3, 'n_estimators': 500, 'subsample': 1}\n",
      "0.849000 (0.028208) with: {'learning_rate': 0.001, 'max_depth': 7, 'n_estimators': 10, 'subsample': 0.5}\n",
      "0.853333 (0.028324) with: {'learning_rate': 0.001, 'max_depth': 7, 'n_estimators': 10, 'subsample': 0.7}\n",
      "0.807000 (0.030567) with: {'learning_rate': 0.001, 'max_depth': 7, 'n_estimators': 10, 'subsample': 1}\n",
      "0.887667 (0.028715) with: {'learning_rate': 0.001, 'max_depth': 7, 'n_estimators': 50, 'subsample': 0.5}\n",
      "0.875000 (0.027899) with: {'learning_rate': 0.001, 'max_depth': 7, 'n_estimators': 50, 'subsample': 0.7}\n",
      "0.810333 (0.033114) with: {'learning_rate': 0.001, 'max_depth': 7, 'n_estimators': 50, 'subsample': 1}\n",
      "0.893000 (0.029794) with: {'learning_rate': 0.001, 'max_depth': 7, 'n_estimators': 100, 'subsample': 0.5}\n",
      "0.877667 (0.030625) with: {'learning_rate': 0.001, 'max_depth': 7, 'n_estimators': 100, 'subsample': 0.7}\n",
      "0.808333 (0.032050) with: {'learning_rate': 0.001, 'max_depth': 7, 'n_estimators': 100, 'subsample': 1}\n",
      "0.900000 (0.027928) with: {'learning_rate': 0.001, 'max_depth': 7, 'n_estimators': 500, 'subsample': 0.5}\n",
      "0.888333 (0.029786) with: {'learning_rate': 0.001, 'max_depth': 7, 'n_estimators': 500, 'subsample': 0.7}\n",
      "0.822333 (0.023192) with: {'learning_rate': 0.001, 'max_depth': 7, 'n_estimators': 500, 'subsample': 1}\n",
      "0.840333 (0.030603) with: {'learning_rate': 0.001, 'max_depth': 9, 'n_estimators': 10, 'subsample': 0.5}\n",
      "0.856000 (0.024166) with: {'learning_rate': 0.001, 'max_depth': 9, 'n_estimators': 10, 'subsample': 0.7}\n",
      "0.812333 (0.026793) with: {'learning_rate': 0.001, 'max_depth': 9, 'n_estimators': 10, 'subsample': 1}\n",
      "0.888000 (0.028213) with: {'learning_rate': 0.001, 'max_depth': 9, 'n_estimators': 50, 'subsample': 0.5}\n",
      "0.882333 (0.026918) with: {'learning_rate': 0.001, 'max_depth': 9, 'n_estimators': 50, 'subsample': 0.7}\n",
      "0.811000 (0.026752) with: {'learning_rate': 0.001, 'max_depth': 9, 'n_estimators': 50, 'subsample': 1}\n",
      "0.895000 (0.027295) with: {'learning_rate': 0.001, 'max_depth': 9, 'n_estimators': 100, 'subsample': 0.5}\n",
      "0.884333 (0.029290) with: {'learning_rate': 0.001, 'max_depth': 9, 'n_estimators': 100, 'subsample': 0.7}\n",
      "0.813333 (0.026750) with: {'learning_rate': 0.001, 'max_depth': 9, 'n_estimators': 100, 'subsample': 1}\n",
      "0.902000 (0.027495) with: {'learning_rate': 0.001, 'max_depth': 9, 'n_estimators': 500, 'subsample': 0.5}\n",
      "0.887667 (0.026793) with: {'learning_rate': 0.001, 'max_depth': 9, 'n_estimators': 500, 'subsample': 0.7}\n",
      "0.817000 (0.027827) with: {'learning_rate': 0.001, 'max_depth': 9, 'n_estimators': 500, 'subsample': 1}\n",
      "0.828667 (0.046313) with: {'learning_rate': 0.01, 'max_depth': 3, 'n_estimators': 10, 'subsample': 0.5}\n",
      "0.818333 (0.045099) with: {'learning_rate': 0.01, 'max_depth': 3, 'n_estimators': 10, 'subsample': 0.7}\n",
      "0.780000 (0.035214) with: {'learning_rate': 0.01, 'max_depth': 3, 'n_estimators': 10, 'subsample': 1}\n",
      "0.839333 (0.032035) with: {'learning_rate': 0.01, 'max_depth': 3, 'n_estimators': 50, 'subsample': 0.5}\n",
      "0.834333 (0.036394) with: {'learning_rate': 0.01, 'max_depth': 3, 'n_estimators': 50, 'subsample': 0.7}\n",
      "0.813333 (0.032283) with: {'learning_rate': 0.01, 'max_depth': 3, 'n_estimators': 50, 'subsample': 1}\n",
      "0.857333 (0.034247) with: {'learning_rate': 0.01, 'max_depth': 3, 'n_estimators': 100, 'subsample': 0.5}\n",
      "0.848667 (0.033139) with: {'learning_rate': 0.01, 'max_depth': 3, 'n_estimators': 100, 'subsample': 0.7}\n",
      "0.836000 (0.034020) with: {'learning_rate': 0.01, 'max_depth': 3, 'n_estimators': 100, 'subsample': 1}\n",
      "0.893333 (0.031552) with: {'learning_rate': 0.01, 'max_depth': 3, 'n_estimators': 500, 'subsample': 0.5}\n",
      "0.891000 (0.030039) with: {'learning_rate': 0.01, 'max_depth': 3, 'n_estimators': 500, 'subsample': 0.7}\n",
      "0.877667 (0.029629) with: {'learning_rate': 0.01, 'max_depth': 3, 'n_estimators': 500, 'subsample': 1}\n",
      "0.871333 (0.028721) with: {'learning_rate': 0.01, 'max_depth': 7, 'n_estimators': 10, 'subsample': 0.5}\n",
      "0.859000 (0.030589) with: {'learning_rate': 0.01, 'max_depth': 7, 'n_estimators': 10, 'subsample': 0.7}\n",
      "0.811667 (0.030120) with: {'learning_rate': 0.01, 'max_depth': 7, 'n_estimators': 10, 'subsample': 1}\n",
      "0.885667 (0.029516) with: {'learning_rate': 0.01, 'max_depth': 7, 'n_estimators': 50, 'subsample': 0.5}\n",
      "0.884333 (0.031271) with: {'learning_rate': 0.01, 'max_depth': 7, 'n_estimators': 50, 'subsample': 0.7}\n",
      "0.822000 (0.023721) with: {'learning_rate': 0.01, 'max_depth': 7, 'n_estimators': 50, 'subsample': 1}\n",
      "0.897667 (0.027164) with: {'learning_rate': 0.01, 'max_depth': 7, 'n_estimators': 100, 'subsample': 0.5}\n",
      "0.891333 (0.034422) with: {'learning_rate': 0.01, 'max_depth': 7, 'n_estimators': 100, 'subsample': 0.7}\n",
      "0.837000 (0.026851) with: {'learning_rate': 0.01, 'max_depth': 7, 'n_estimators': 100, 'subsample': 1}\n",
      "0.925333 (0.026170) with: {'learning_rate': 0.01, 'max_depth': 7, 'n_estimators': 500, 'subsample': 0.5}\n",
      "0.916667 (0.029477) with: {'learning_rate': 0.01, 'max_depth': 7, 'n_estimators': 500, 'subsample': 0.7}\n",
      "0.883000 (0.033877) with: {'learning_rate': 0.01, 'max_depth': 7, 'n_estimators': 500, 'subsample': 1}\n",
      "0.863000 (0.027465) with: {'learning_rate': 0.01, 'max_depth': 9, 'n_estimators': 10, 'subsample': 0.5}\n",
      "0.865000 (0.030304) with: {'learning_rate': 0.01, 'max_depth': 9, 'n_estimators': 10, 'subsample': 0.7}\n",
      "0.815000 (0.026552) with: {'learning_rate': 0.01, 'max_depth': 9, 'n_estimators': 10, 'subsample': 1}\n",
      "0.895333 (0.029747) with: {'learning_rate': 0.01, 'max_depth': 9, 'n_estimators': 50, 'subsample': 0.5}\n",
      "0.886000 (0.025639) with: {'learning_rate': 0.01, 'max_depth': 9, 'n_estimators': 50, 'subsample': 0.7}\n",
      "0.819333 (0.030104) with: {'learning_rate': 0.01, 'max_depth': 9, 'n_estimators': 50, 'subsample': 1}\n",
      "0.895667 (0.024452) with: {'learning_rate': 0.01, 'max_depth': 9, 'n_estimators': 100, 'subsample': 0.5}\n",
      "0.891000 (0.028908) with: {'learning_rate': 0.01, 'max_depth': 9, 'n_estimators': 100, 'subsample': 0.7}\n",
      "0.822667 (0.027072) with: {'learning_rate': 0.01, 'max_depth': 9, 'n_estimators': 100, 'subsample': 1}\n",
      "0.925000 (0.028954) with: {'learning_rate': 0.01, 'max_depth': 9, 'n_estimators': 500, 'subsample': 0.5}\n",
      "0.918000 (0.029822) with: {'learning_rate': 0.01, 'max_depth': 9, 'n_estimators': 500, 'subsample': 0.7}\n",
      "0.833667 (0.029267) with: {'learning_rate': 0.01, 'max_depth': 9, 'n_estimators': 500, 'subsample': 1}\n",
      "0.839667 (0.033812) with: {'learning_rate': 0.1, 'max_depth': 3, 'n_estimators': 10, 'subsample': 0.5}\n",
      "0.839333 (0.035771) with: {'learning_rate': 0.1, 'max_depth': 3, 'n_estimators': 10, 'subsample': 0.7}\n",
      "0.830000 (0.036515) with: {'learning_rate': 0.1, 'max_depth': 3, 'n_estimators': 10, 'subsample': 1}\n",
      "0.885667 (0.034320) with: {'learning_rate': 0.1, 'max_depth': 3, 'n_estimators': 50, 'subsample': 0.5}\n",
      "0.884333 (0.026291) with: {'learning_rate': 0.1, 'max_depth': 3, 'n_estimators': 50, 'subsample': 0.7}\n",
      "0.880000 (0.033862) with: {'learning_rate': 0.1, 'max_depth': 3, 'n_estimators': 50, 'subsample': 1}\n",
      "0.908333 (0.029562) with: {'learning_rate': 0.1, 'max_depth': 3, 'n_estimators': 100, 'subsample': 0.5}\n",
      "0.901000 (0.030370) with: {'learning_rate': 0.1, 'max_depth': 3, 'n_estimators': 100, 'subsample': 0.7}\n",
      "0.899000 (0.030039) with: {'learning_rate': 0.1, 'max_depth': 3, 'n_estimators': 100, 'subsample': 1}\n",
      "0.925333 (0.026550) with: {'learning_rate': 0.1, 'max_depth': 3, 'n_estimators': 500, 'subsample': 0.5}\n",
      "0.926000 (0.026533) with: {'learning_rate': 0.1, 'max_depth': 3, 'n_estimators': 500, 'subsample': 0.7}\n",
      "0.919000 (0.025475) with: {'learning_rate': 0.1, 'max_depth': 3, 'n_estimators': 500, 'subsample': 1}\n",
      "0.872333 (0.028482) with: {'learning_rate': 0.1, 'max_depth': 7, 'n_estimators': 10, 'subsample': 0.5}\n",
      "0.876000 (0.031475) with: {'learning_rate': 0.1, 'max_depth': 7, 'n_estimators': 10, 'subsample': 0.7}\n",
      "0.836000 (0.024980) with: {'learning_rate': 0.1, 'max_depth': 7, 'n_estimators': 10, 'subsample': 1}\n",
      "0.913000 (0.029794) with: {'learning_rate': 0.1, 'max_depth': 7, 'n_estimators': 50, 'subsample': 0.5}\n",
      "0.910667 (0.032958) with: {'learning_rate': 0.1, 'max_depth': 7, 'n_estimators': 50, 'subsample': 0.7}\n",
      "0.885333 (0.032633) with: {'learning_rate': 0.1, 'max_depth': 7, 'n_estimators': 50, 'subsample': 1}\n",
      "0.924000 (0.031369) with: {'learning_rate': 0.1, 'max_depth': 7, 'n_estimators': 100, 'subsample': 0.5}\n",
      "0.927000 (0.028419) with: {'learning_rate': 0.1, 'max_depth': 7, 'n_estimators': 100, 'subsample': 0.7}\n",
      "0.904667 (0.029635) with: {'learning_rate': 0.1, 'max_depth': 7, 'n_estimators': 100, 'subsample': 1}\n",
      "0.942333 (0.022610) with: {'learning_rate': 0.1, 'max_depth': 7, 'n_estimators': 500, 'subsample': 0.5}\n",
      "0.947333 (0.022499) with: {'learning_rate': 0.1, 'max_depth': 7, 'n_estimators': 500, 'subsample': 0.7}\n",
      "0.931333 (0.029522) with: {'learning_rate': 0.1, 'max_depth': 7, 'n_estimators': 500, 'subsample': 1}\n",
      "0.868667 (0.030739) with: {'learning_rate': 0.1, 'max_depth': 9, 'n_estimators': 10, 'subsample': 0.5}\n",
      "0.870000 (0.030441) with: {'learning_rate': 0.1, 'max_depth': 9, 'n_estimators': 10, 'subsample': 0.7}\n",
      "0.821667 (0.029221) with: {'learning_rate': 0.1, 'max_depth': 9, 'n_estimators': 10, 'subsample': 1}\n",
      "0.915333 (0.029970) with: {'learning_rate': 0.1, 'max_depth': 9, 'n_estimators': 50, 'subsample': 0.5}\n",
      "0.914000 (0.024440) with: {'learning_rate': 0.1, 'max_depth': 9, 'n_estimators': 50, 'subsample': 0.7}\n",
      "0.844333 (0.026669) with: {'learning_rate': 0.1, 'max_depth': 9, 'n_estimators': 50, 'subsample': 1}\n",
      "0.928000 (0.027616) with: {'learning_rate': 0.1, 'max_depth': 9, 'n_estimators': 100, 'subsample': 0.5}\n",
      "0.927000 (0.025580) with: {'learning_rate': 0.1, 'max_depth': 9, 'n_estimators': 100, 'subsample': 0.7}\n",
      "0.842667 (0.035678) with: {'learning_rate': 0.1, 'max_depth': 9, 'n_estimators': 100, 'subsample': 1}\n",
      "0.944667 (0.020450) with: {'learning_rate': 0.1, 'max_depth': 9, 'n_estimators': 500, 'subsample': 0.5}\n",
      "0.947000 (0.022531) with: {'learning_rate': 0.1, 'max_depth': 9, 'n_estimators': 500, 'subsample': 0.7}\n",
      "0.863000 (0.051000) with: {'learning_rate': 0.1, 'max_depth': 9, 'n_estimators': 500, 'subsample': 1}\n",
      "0.832333 (0.027771) with: {'learning_rate': 1, 'max_depth': 3, 'n_estimators': 10, 'subsample': 0.5}\n",
      "0.851333 (0.031700) with: {'learning_rate': 1, 'max_depth': 3, 'n_estimators': 10, 'subsample': 0.7}\n",
      "0.844667 (0.030412) with: {'learning_rate': 1, 'max_depth': 3, 'n_estimators': 10, 'subsample': 1}\n",
      "0.830333 (0.042855) with: {'learning_rate': 1, 'max_depth': 3, 'n_estimators': 50, 'subsample': 0.5}\n",
      "0.871000 (0.038066) with: {'learning_rate': 1, 'max_depth': 3, 'n_estimators': 50, 'subsample': 0.7}\n",
      "0.900333 (0.029607) with: {'learning_rate': 1, 'max_depth': 3, 'n_estimators': 50, 'subsample': 1}\n",
      "0.826667 (0.034189) with: {'learning_rate': 1, 'max_depth': 3, 'n_estimators': 100, 'subsample': 0.5}\n",
      "0.870333 (0.035729) with: {'learning_rate': 1, 'max_depth': 3, 'n_estimators': 100, 'subsample': 0.7}\n",
      "0.905333 (0.031063) with: {'learning_rate': 1, 'max_depth': 3, 'n_estimators': 100, 'subsample': 1}\n",
      "0.801667 (0.116020) with: {'learning_rate': 1, 'max_depth': 3, 'n_estimators': 500, 'subsample': 0.5}\n",
      "0.897333 (0.036417) with: {'learning_rate': 1, 'max_depth': 3, 'n_estimators': 500, 'subsample': 0.7}\n",
      "0.924000 (0.028705) with: {'learning_rate': 1, 'max_depth': 3, 'n_estimators': 500, 'subsample': 1}\n",
      "0.820333 (0.027384) with: {'learning_rate': 1, 'max_depth': 7, 'n_estimators': 10, 'subsample': 0.5}\n",
      "0.851667 (0.034649) with: {'learning_rate': 1, 'max_depth': 7, 'n_estimators': 10, 'subsample': 0.7}\n",
      "0.878000 (0.022716) with: {'learning_rate': 1, 'max_depth': 7, 'n_estimators': 10, 'subsample': 1}\n",
      "0.830667 (0.042812) with: {'learning_rate': 1, 'max_depth': 7, 'n_estimators': 50, 'subsample': 0.5}\n",
      "0.902000 (0.025871) with: {'learning_rate': 1, 'max_depth': 7, 'n_estimators': 50, 'subsample': 0.7}\n",
      "0.919667 (0.030712) with: {'learning_rate': 1, 'max_depth': 7, 'n_estimators': 50, 'subsample': 1}\n",
      "0.828667 (0.061359) with: {'learning_rate': 1, 'max_depth': 7, 'n_estimators': 100, 'subsample': 0.5}\n",
      "0.916333 (0.027747) with: {'learning_rate': 1, 'max_depth': 7, 'n_estimators': 100, 'subsample': 0.7}\n",
      "0.936000 (0.024846) with: {'learning_rate': 1, 'max_depth': 7, 'n_estimators': 100, 'subsample': 1}\n",
      "0.760333 (0.173176) with: {'learning_rate': 1, 'max_depth': 7, 'n_estimators': 500, 'subsample': 0.5}\n",
      "0.909000 (0.035152) with: {'learning_rate': 1, 'max_depth': 7, 'n_estimators': 500, 'subsample': 0.7}\n",
      "0.881667 (0.031946) with: {'learning_rate': 1, 'max_depth': 7, 'n_estimators': 500, 'subsample': 1}\n",
      "0.817333 (0.038552) with: {'learning_rate': 1, 'max_depth': 9, 'n_estimators': 10, 'subsample': 0.5}\n",
      "0.851000 (0.037000) with: {'learning_rate': 1, 'max_depth': 9, 'n_estimators': 10, 'subsample': 0.7}\n",
      "0.880667 (0.032345) with: {'learning_rate': 1, 'max_depth': 9, 'n_estimators': 10, 'subsample': 1}\n",
      "0.828333 (0.048103) with: {'learning_rate': 1, 'max_depth': 9, 'n_estimators': 50, 'subsample': 0.5}\n",
      "0.901333 (0.030192) with: {'learning_rate': 1, 'max_depth': 9, 'n_estimators': 50, 'subsample': 0.7}\n",
      "0.928333 (0.023535) with: {'learning_rate': 1, 'max_depth': 9, 'n_estimators': 50, 'subsample': 1}\n",
      "0.860667 (0.076591) with: {'learning_rate': 1, 'max_depth': 9, 'n_estimators': 100, 'subsample': 0.5}\n",
      "0.921667 (0.029221) with: {'learning_rate': 1, 'max_depth': 9, 'n_estimators': 100, 'subsample': 0.7}\n",
      "0.926333 (0.024012) with: {'learning_rate': 1, 'max_depth': 9, 'n_estimators': 100, 'subsample': 1}\n",
      "0.787333 (0.170976) with: {'learning_rate': 1, 'max_depth': 9, 'n_estimators': 500, 'subsample': 0.5}\n",
      "0.888667 (0.042327) with: {'learning_rate': 1, 'max_depth': 9, 'n_estimators': 500, 'subsample': 0.7}\n",
      "0.853333 (0.025991) with: {'learning_rate': 1, 'max_depth': 9, 'n_estimators': 500, 'subsample': 1}\n"
     ]
    }
   ],
   "source": [
    "for mean, stdev, param in zip(means, stds, params):\n",
    "    print(\"%f (%f) with: %r\" % (mean, stdev, param))"
   ]
  },
  {
   "cell_type": "code",
   "execution_count": null,
   "metadata": {},
   "outputs": [],
   "source": []
  }
 ],
 "metadata": {
  "kernelspec": {
   "display_name": "Python 3",
   "language": "python",
   "name": "python3"
  },
  "language_info": {
   "codemirror_mode": {
    "name": "ipython",
    "version": 3
   },
   "file_extension": ".py",
   "mimetype": "text/x-python",
   "name": "python",
   "nbconvert_exporter": "python",
   "pygments_lexer": "ipython3",
   "version": "3.6.10"
  }
 },
 "nbformat": 4,
 "nbformat_minor": 4
}
